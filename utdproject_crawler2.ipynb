{
  "nbformat": 4,
  "nbformat_minor": 0,
  "metadata": {
    "colab": {
      "provenance": []
    },
    "kernelspec": {
      "name": "python3",
      "display_name": "Python 3"
    },
    "language_info": {
      "name": "python"
    }
  },
  "cells": [
    {
      "cell_type": "code",
      "execution_count": null,
      "metadata": {
        "id": "K5xo_d8ftL-q"
      },
      "outputs": [],
      "source": [
        "import requests\n",
        "from bs4 import BeautifulSoup\n",
        "import time"
      ]
    },
    {
      "cell_type": "markdown",
      "source": [
        "# for the school's blog"
      ],
      "metadata": {
        "id": "KESxWN2t9byI"
      }
    },
    {
      "cell_type": "code",
      "source": [
        "f = open(\"test.txt\", \"w\")   # 'r' for reading and 'w' for writing"
      ],
      "metadata": {
        "id": "y6Baz_0hhoHC"
      },
      "execution_count": null,
      "outputs": []
    },
    {
      "cell_type": "code",
      "source": [
        "url = \"https://www.utdallas.edu/wp-sitemap-posts-post-1.xml\"\n",
        "res = requests.get(url)\n",
        "soup = BeautifulSoup(res.text,'xml')\n",
        "links = soup.select('loc')\n",
        "unsuc_lst = []\n",
        "for link in links:\n",
        "  res = requests.get(link.text)\n",
        "  ###\n",
        "  soup = BeautifulSoup(res.text,'xml')\n",
        "  header = soup.find('h1')\n",
        "  date = soup.select('h4 small')\n",
        "  content = soup.find('p')\n",
        "  ###\n",
        "  try:\n",
        "    f.write(header.text + ' ')\n",
        "    print(header.text)\n",
        "  except:\n",
        "    unsuc_lst.append(link.text)\n",
        "    time.sleep(1)\n",
        "    continue\n",
        "  try:\n",
        "    f.write(date[0].text + ' ')\n",
        "    print(date[0].text)\n",
        "  except:\n",
        "    0\n",
        "  try:\n",
        "    f.write(content.text + \"\\n\")\n",
        "    print(content.text)\n",
        "  except:\n",
        "    0\n"
      ],
      "metadata": {
        "colab": {
          "base_uri": "https://localhost:8080/"
        },
        "id": "y7ku1DEUhuiy",
        "outputId": "bda53a3c-07c3-4b78-aa7d-bfdb65293613"
      },
      "execution_count": null,
      "outputs": [
        {
          "output_type": "stream",
          "name": "stdout",
          "text": [
            "A Messy Tradition Begins\n",
            "September 12, 2002\n",
            "Oozeball — an annual mud volleyball tournament — debuted at homecoming in fall 2002.\n",
            "Creation of Geophysical Services Inc.\n",
            "April 25, 1941\n",
            "Eugene McDermott, J. Erik Jonsson and Cecil Green establish Geophysical Services Inc., the corporation that will later become Texas Instruments Inc.\n",
            "Transformation Into Texas Instruments\n",
            "July 25, 1951\n",
            "Geophysical Services Inc. changes its name to Texas Instruments Inc.\n",
            "First of Its Kind\n",
            "July 25, 1958\n",
            "800 W. Campbell RoadRichardson, Texas 75080-3021\n",
            "972-883-2111\n",
            "\n",
            "Start of the Circuit\n",
            "July 25, 1947\n",
            "Bell Labs invents the transistor.\n",
            "Geophysics Division Forms\n",
            "January 30, 1963\n",
            "The GRCSW appoints Dr. Anton Hales to lead the geophysics division. He is joined by Dr. Dean Presnall, Dr. Emile Pessagno Jr., Dr. James Carter, Dr. William Manton and Dr. Richard Mitterer.\n",
            "New Arts and Humanities Professor\n",
            "February 15, 1990\n",
            "Dr. Robert S. Nelsen becomes assistant professor of arts and humanities.\n",
            "UTD Welcomes Its First Freshmen\n",
            "March 30, 1990\n",
            "Nearly 20 years after its founding, UTD’s first freshman class arrives on campus in August 1990. The class consists of about 100 students whose achievements set the academic standard for future classes.\n",
            "Cecil Professorship\n",
            "July 31, 1999\n",
            "UTD establishes the Andrew R. Cecil Chair in Applied Ethics in the School of Management.\n",
            "Dr. Jordan Joins UT Dallas\n",
            "January 1, 1971\n",
            "In July, Dr. Bryce Jordan becomes the first president of UT Dallas. Jordan previously served as the president of The University of Texas at Austin. He would serve UT Dallas for the next decade, going on to become vice chancellor for academic affairs for The University of Texas System in 1981.\n",
            "First Undergraduate Dean\n",
            "July 31, 1973\n",
            "UT Dallas appoints Dr. Regina Mary Jane Kyle as executive dean for undergraduate studies.\n",
            "Dr. Clark Joins UT Dallas\n",
            "January 31, 1974\n",
            "Dr. Alexander Clark joins UT Dallas as vice president of academic affairs. During his time on campus, he recruits over 130 faculty members, conducting 550 interviews in 1975 alone.\n",
            "The Love Jack\n",
            "February 28, 1976\n",
            "Margaret McDermott, wife of founder Eugene McDermott, donates the 10-foot-tall steel Jack sculpture, affectionately called the “Love Jack” by students. Created by American modernist sculptor and Texas native Jim Love, the Love Jack is currently located at the Edith O’Donnell Arts and Technology Building.\n",
            "Library Gets a Facelift\n",
            "January 1, 2000\n",
            "Remodeling begins in McDermott Library, including the McDermott Suite — a space for people to host gatherings.\n",
            "Margaret McDermott Helps Scholars\n",
            "February 1, 2000\n",
            "Margaret McDermott donates $32 million dollars to establish the Eugene McDermott Scholars Program, a highly competitive program which seeks to provide scholars with leadership, cultural and educational tools to enrich their academic experience. Because of McDermott’s generosity, all McDermott Scholars attend UT Dallas on a full scholarship with a stipend package.\n",
            "Blanchard Joins Engineering Staff\n",
            "March 1, 2001\n",
            "Dr. Andy Blanchard joins UT Dallas as a professor of electrical engineering and senior associate dean of the Erik Jonsson School of Engineering and Computer Science.\n",
            "UTD Takes D.C.\n",
            "January 1, 2002\n",
            "UT Dallas joins other UT System schools in the Archer Fellowship program, a professional fellowship that gives students the opportunity to intern in Washington, D.C. Students from UT Dallas have worked everywhere from think tanks to the White House and Senate offices.\n",
            "New Building for School of Management\n",
            "April 1, 2003\n",
            "The new 204,000-square-foot School of Management Building opens.\n",
            "New McDermott Library Dean\n",
            "March 1, 2004\n",
            "Dr. Larry D. Sall, director of libraries since 2000, is appointed dean of the McDermott Library.\n",
            "Ceremonial Mace Debuts\n",
            "January 1, 2006\n",
            "UT Dallas’ first Ceremonial Mace is presented to President David Daniel. The mace is made of wood from the 600-year-old Treaty Oak Tree in Austin and bears a metal University Seal that was carried into space.\n",
            "School of Social Sciences Renamed\n",
            "February 1, 2006\n",
            "The School of Social Sciences is renamed the School of Economic, Political and Policy Sciences.\n",
            "Natural Sciences and Engineering’s New Lab\n",
            "January 1, 2007\n",
            "The Natural Science and Engineering Research Laboratory opens. Its colorful anodized shingles earn it the nickname “The Mermaid Building.”\n",
            "General Studies Changes Its Name\n",
            "July 20, 2008\n",
            "The School of General Studies is renamed the School of Interdisciplinary Studies, offering programs in health care, American studies and exercise studies.\n",
            "A Governor’s Visit\n",
            "February 1, 2009\n",
            "Gov. Rick Perry visits UT Dallas to sign House Bill 51. The legislation offers funding to reward research productivity and match private funding. It also establishes goals based on national standards that encourage UT Dallas and other universities throughout the state to expand research and improve academic excellence.\n",
            "Major Donations in a Single Day\n",
            "March 1, 2009\n",
            "On Sept. 1, 2009, UT Dallas receives 16 individual donations — seven of which are greater than $1 million.\n",
            "Presidents Discuss UTD’s First 40 Years\n",
            "April 1, 2009\n",
            "Presidents David E. Daniel, Franklyn Jenifer and Robert H. Rutford gather on a panel to reflect on the University’s 40-year trajectory.\n",
            "New Undergraduate Education Dean\n",
            "January 15, 2010\n",
            "Dr. Sheila Amin Gutiérrez de Piñeres is appointed new dean of Undergraduate Education following Dr. J. Michael Coleman’s retirement.\n",
            "First Investiture Ceremony\n",
            "February 1, 2012\n",
            "UT Dallas begins an annual tradition for its faculty, the Investiture Ceremony. The ceremony — attended by colleagues, family, and students — is a time to celebrate and recognize UTD’s extraordinary faculty.\n",
            "Symposium on Relativistic Astrophysics\n",
            "March 1, 2013\n",
            "The Texas Symposium on Relativistic Astrophysics returns to UT Dallas for its 27th conference. Dr. Wolfgang Rindler, who was present for the inaugural symposium, and Dr. Mustapha Ishak-Bousaki host the conference. While it is held in locations around the world, the conference retains “Texas” in its name to honor the first gathering at UT Dallas.\n",
            "Three New Buildings\n",
            "May 1, 2014\n",
            "In a whirlwind of construction, Residence Hall West, Dining Hall West and Recreation Center West open to students.\n",
            "A Monumental Occasion\n",
            "July 1, 2014\n",
            "Crowds pack the Edith O’Donnell Arts and Technology Building lecture hall for the first Arts, Technology, and Emerging Communications (ATEC) Distinguished Lecture — a talk by Robert Edsel, author of The Monuments Men. Subsequent events include a talk from former astronaut Mae Jemison; internet pioneer Vinton G. Cerf; and UTD alum and Microsoft executive Christian Belady MA’90.\n",
            "The Arts and Technology Gain a New School\n",
            "February 1, 2015\n",
            "The UT System Board of Regents approves the merger of two successful Arts and Technology programs into a single school — the School of Arts, Technology, and Emerging Communication.\n",
            "First UTD Alum Earns Nobel Prize\n",
            "April 1, 2015\n",
            "Dr. Aziz Sancar, who earned his PhD in molecular and cell biology from UT Dallas in 1977, becomes the first UTD alum to win a Nobel Prize.\n",
            "Women’s Cross Country Clinches Title\n",
            "September 1, 2016\n",
            "The women’s cross country team wins the American Southwest Conference championship for the first time.\n",
            "Honors College Renamed\n",
            "February 1, 2017\n",
            "Margaret McDermott creates an endowment of $10 million for undergraduate research and, per her request, the Honors College is renamed the Hobson Wildenthal Honors College.\n",
            "Softball Hits Home Run\n",
            "June 1, 2017\n",
            "The women’s softball team wins its first conference championship.\n",
            "Real Estate Institute Is Established\n",
            "October 1, 2018\n",
            "North Texas real estate icon Herb Weitzman and his wife, Donna, establish the Herbert D. Weitzman Institute for Real Estate at the Naveen Jindal School of Management.\n",
            "Memorial Lecture Series Begins\n",
            "January 29, 1970\n",
            "The Anson L. Clark Memorial Lecture, the oldest endowed lecture series on campus, begins, attracting distinguished speakers like Dr. Carl Sagan in 1976.\n",
            "New Name, Same Mission\n",
            "July 30, 1967\n",
            "The Graduate Research Center of the Southwest changes its name to the Southwest Center for Advanced Studies.\n",
            "Frank Johnson Makes a Stellar President\n",
            "July 30, 1969\n",
            "800 W. Campbell RoadRichardson, Texas 75080-3021\n",
            "972-883-2111\n",
            "\n",
            "From Southwest Center to UT Dallas\n",
            "August 30, 1969\n",
            "The 61st Texas Legislative Session passes HB 303, establishing a “state-supported institution of higher education to be known as The University of Texas at Dallas.” Gov. Preston Smith signs the bill, making UTD an official member of The University of Texas System effective September 1969.\n",
            "A Place To Hang Out\n",
            "January 30, 1981\n",
            "After starting construction in 1979, the Student Union opens its doors and soon wins an architecture award.\n",
            "School of Social Sciences Adds a Professor\n",
            "August 30, 1981\n",
            "Dr. Edward (Ted) Harpham becomes assistant professor of the School of Social Sciences.\n",
            "A Place to Pitch\n",
            "January 30, 1983\n",
            "The Morris Hite Center for Marketing Science opens its doors for students to learn the latest research related to new products and management.\n",
            "UTD Engineering Begins\n",
            "January 30, 1986\n",
            "The University realizes its dream for an engineering school when the Erik Jonsson School of Engineering and Computer Sciences opens its doors.\n",
            "Sandra Bond Chapman Earns PhD\n",
            "March 30, 1986\n",
            "Dr. Sandra Bond Chapman earns her PhD at UT Dallas. Thirteen years later, she establishes the University’s Center for BrainHealth.\n",
            "Ackerman Center for Holocaust Studies\n",
            "April 30, 1986\n",
            "Dr. Zsuzsanna Ozsváth, a Hungarian-Jewish Holocaust survivor, translation expert, and professor of 19th- and 20th-century European literature and history, establishes the Ackerman Center for Holocaust Studies. UT Dallas is just one of two schools in the nation that offers a master’s or PhD in Holocaust studies.\n",
            "New Dean for BBS\n",
            "April 15, 2019\n",
            "Dr. Steven L. Small, professor of neurology at the University of California, Irvine and director and chief scientific officer of the Medical Innovation Institute at the UC Irvine School of Medicine, becomes dean of the School of Behavioral and Brain Sciences.\n",
            "Living Our Values\n",
            "In June 2020, UT Dallas formed a Living Our Values Task Force with a goal of discussing issues of systemic racism, inherent bias, equity, diversity, access and inclusion within the campus community.\n",
            "UT Dallas Ranked Top University in Southwest for LGBTQ+ Students\n",
            "June 26, 2020\n",
            "800 W. Campbell RoadRichardson, Texas 75080-3021\n",
            "972-883-2111\n",
            "\n",
            "The First Logo\n",
            "May 1, 1971\n",
            "President Bryce Jordan and his assistant Donna Beth McCormick design UT Dallas’ first logo, with the letters “UTD” in a box with orange, white and green colors.\n",
            "Nobel Laureate on Campus\n",
            "January 31, 1972\n",
            "Dr. Polykarp Kusch becomes the first Nobel laureate on the UTD faculty. His work in accurately determining the magnetic moment of the electron as being greater than its theoretical value led to innovations in the field of quantum electrodynamics. Yet, despite his prowess in the laboratory, Kusch’s heart was with his students. As he once put it, “I describe myself as an adequate scientist, but I am a superb teacher.”\n",
            "Welcome Dr. Redlinger\n",
            "September 30, 1975\n",
            "Dr. Lawrence J. Redlinger joins UT Dallas as associate professor of sociology.\n",
            "New School of Management Dean\n",
            "August 31, 1996\n",
            "Dr. Hasan Pirkul joins the School of Management as its new dean and Caruth Chair.\n",
            "Comets Checkmate\n",
            "August 31, 1996\n",
            "The chess team debuts at UT Dallas, launching a proud tradition of competitive excellence. Since its establishment, the UTD chess team has won the President’s Cup — known as the Final Four of College Chess — four times, won the Pan American Intercollegiate Chess Championship, and made history by playing Instituto Superior de Cultura Física in the first US-Cuba chess match in 50 years.\n",
            "Undergraduate Education’s New Dean\n",
            "March 31, 1997\n",
            "Dr. J. Michael Coleman is appointed dean of Undergraduate Education.\n",
            "New Professor of Management\n",
            "July 31, 1997\n",
            "Dr. Suresh Sethi arrives at UT Dallas as a professor of management and Ashbel Smith Professor. He later becomes the Davidson Professor and Eugene McDermott Chair.\n",
            "UTD Hosts COVID-19 Vaccination Site\n",
            "March 15, 2021\n",
            "UT Southwestern Medical Center opens a new community vaccine site on The University of Texas at Dallas campus. The site provides vaccinations for UTSW patients and community members who are part of prioritized groups.\n",
            "UT Dallas Resumes In-Person Classes Amid Pandemic\n",
            "August 23, 2021\n",
            "The University of Texas at Dallas returned to pre-pandemic operations when the fall semester began Aug. 23.\n",
            "UT Dallas Welcomes New VP for Diversity, Equity and Inclusion\n",
            "August 23, 2021\n",
            "Dr. Yvette E. Pearson joined UT Dallas in fall 2021 after working in various roles to increase opportunities in engineering for women, minorities, students from low-income backgrounds and people with disabilities.\n",
            "New Graduates Celebrate at First All-University Commencement\n",
            "May 15, 2022\n",
            "The University of Texas of Dallas holds the inaugural All-University Commencement, a sparkling new Comet tradition that celebrated recent graduates’ academic journeys.\n",
            "Arts School Gets New Name with Bass Foundation’s $40 Million Gift\n",
            "May 9, 2023\n",
            "The gift creates new opportunities, while also strengthening scholarships, research and programming for the Harry W. Bass Jr. School of Arts, Humanities, and Technology.\n"
          ]
        }
      ]
    },
    {
      "cell_type": "code",
      "source": [
        "print(len(links))"
      ],
      "metadata": {
        "colab": {
          "base_uri": "https://localhost:8080/"
        },
        "id": "fPM1wEzT3phY",
        "outputId": "3166ca1a-8611-47a0-f203-59fd022e4b04"
      },
      "execution_count": null,
      "outputs": [
        {
          "output_type": "stream",
          "name": "stdout",
          "text": [
            "251\n"
          ]
        }
      ]
    },
    {
      "cell_type": "code",
      "source": [
        "print(len(unsuc_lst))"
      ],
      "metadata": {
        "colab": {
          "base_uri": "https://localhost:8080/"
        },
        "id": "Rp_XFnKJ2Rlb",
        "outputId": "b032dbbf-9c40-4499-abe1-f530ce475ee7"
      },
      "execution_count": null,
      "outputs": [
        {
          "output_type": "stream",
          "name": "stdout",
          "text": [
            "189\n"
          ]
        }
      ]
    },
    {
      "cell_type": "code",
      "source": [
        "while(len(unsuc_lst)>5):\n",
        "  tmp=[]\n",
        "  for link in unsuc_lst:\n",
        "    res = requests.get(link)\n",
        "    ###\n",
        "    soup = BeautifulSoup(res.text,'xml')\n",
        "    header = soup.find('h1')\n",
        "    date = soup.select('h4 small')\n",
        "    content = soup.find('p')\n",
        "    ###\n",
        "    try:\n",
        "      f.write(header.text+ ' ')\n",
        "    except:\n",
        "      tmp.append(link)\n",
        "      time.sleep(1)\n",
        "      continue\n",
        "    try:\n",
        "      f.write(date[0].text+ ' ')\n",
        "    except:\n",
        "      0\n",
        "    try:\n",
        "      f.write(content.text+ \"\\n\")\n",
        "    except:\n",
        "      0\n",
        "\n",
        "  print(len(tmp))\n",
        "  unsuc_lst = tmp"
      ],
      "metadata": {
        "colab": {
          "base_uri": "https://localhost:8080/"
        },
        "id": "SI0qE5nO2dmp",
        "outputId": "9a7ba14c-d9f4-4d24-a93a-7b8892f8e141"
      },
      "execution_count": null,
      "outputs": [
        {
          "output_type": "stream",
          "name": "stdout",
          "text": [
            "126\n",
            "90\n",
            "64\n",
            "42\n",
            "31\n",
            "21\n",
            "15\n",
            "9\n",
            "8\n",
            "5\n"
          ]
        }
      ]
    },
    {
      "cell_type": "code",
      "source": [
        "unsuc_lst"
      ],
      "metadata": {
        "colab": {
          "base_uri": "https://localhost:8080/"
        },
        "id": "ug8JcAVQxFpt",
        "outputId": "b1f96c5f-3f36-4b69-e36a-55a8d6ae6866"
      },
      "execution_count": null,
      "outputs": [
        {
          "output_type": "execute_result",
          "data": {
            "text/plain": [
              "['https://www.utdallas.edu/dr-armstrong-joins-ut-dallas/',\n",
              " 'https://www.utdallas.edu/mcdermott-graduate-fellows-begin/',\n",
              " 'https://www.utdallas.edu/fall-2020/',\n",
              " 'https://www.utdallas.edu/james-reilly-ii-distinguished-alumni/',\n",
              " 'https://www.utdallas.edu/utd-plays-ball/']"
            ]
          },
          "metadata": {},
          "execution_count": 70
        }
      ]
    },
    {
      "cell_type": "code",
      "source": [
        "res = requests.get('https://www.utdallas.edu/dr-armstrong-joins-ut-dallas/')\n",
        "###\n",
        "soup = BeautifulSoup(res.text,'xml')\n",
        "header = soup.find('h1')\n",
        "date = soup.select('h4 small')\n",
        "content = soup.find('p')\n",
        "###\n",
        "try:\n",
        "  f.write(header.text)\n",
        "except:\n",
        "  print(\"fail\")\n",
        "try:\n",
        "  f.write(date[0].text)\n",
        "except:\n",
        "  0\n",
        "try:\n",
        "  f.write(content.text)\n",
        "except:\n",
        "  0"
      ],
      "metadata": {
        "id": "_DBuINvexIUW"
      },
      "execution_count": null,
      "outputs": []
    },
    {
      "cell_type": "code",
      "source": [
        "res = requests.get('https://www.utdallas.edu/mcdermott-graduate-fellows-begin/')\n",
        "###\n",
        "soup = BeautifulSoup(res.text,'xml')\n",
        "header = soup.find('h1')\n",
        "date = soup.select('h4 small')\n",
        "content = soup.find('p')\n",
        "###\n",
        "try:\n",
        "  f.write(header.text)\n",
        "except:\n",
        "  print(\"fail\")\n",
        "try:\n",
        "  f.write(date[0].text)\n",
        "except:\n",
        "  0\n",
        "try:\n",
        "  f.write(content.text)\n",
        "except:\n",
        "  0"
      ],
      "metadata": {
        "colab": {
          "base_uri": "https://localhost:8080/"
        },
        "id": "JwA6XCqqxccK",
        "outputId": "b3f1c47e-c064-4350-f1c6-af664731e1cb"
      },
      "execution_count": null,
      "outputs": [
        {
          "output_type": "stream",
          "name": "stdout",
          "text": [
            "fail\n"
          ]
        }
      ]
    },
    {
      "cell_type": "code",
      "source": [
        "res = requests.get('https://www.utdallas.edu/fall-2020/')\n",
        "###\n",
        "soup = BeautifulSoup(res.text,'xml')\n",
        "header = soup.find('h1')\n",
        "date = soup.select('h4 small')\n",
        "content = soup.find('p')\n",
        "###\n",
        "try:\n",
        "  f.write(header.text)\n",
        "except:\n",
        "  print(\"fail\")\n",
        "try:\n",
        "  f.write(date[0].text)\n",
        "except:\n",
        "  0\n",
        "try:\n",
        "  f.write(content.text)\n",
        "except:\n",
        "  0"
      ],
      "metadata": {
        "colab": {
          "base_uri": "https://localhost:8080/"
        },
        "id": "6vc8OHCVxhZU",
        "outputId": "4f31d5fa-3c23-4132-e102-a600f5de6aa1"
      },
      "execution_count": null,
      "outputs": [
        {
          "output_type": "stream",
          "name": "stdout",
          "text": [
            "fail\n"
          ]
        }
      ]
    },
    {
      "cell_type": "code",
      "source": [
        "res = requests.get('https://www.utdallas.edu/james-reilly-ii-distinguished-alumni/')\n",
        "###\n",
        "soup = BeautifulSoup(res.text,'xml')\n",
        "header = soup.find('h1')\n",
        "date = soup.select('h4 small')\n",
        "content = soup.find('p')\n",
        "###\n",
        "try:\n",
        "  f.write(header.text)\n",
        "except:\n",
        "  print(\"fail\")\n",
        "try:\n",
        "  f.write(date[0].text)\n",
        "except:\n",
        "  0\n",
        "try:\n",
        "  f.write(content.text)\n",
        "except:\n",
        "  0"
      ],
      "metadata": {
        "id": "voAWVTv3xmja"
      },
      "execution_count": null,
      "outputs": []
    },
    {
      "cell_type": "code",
      "source": [
        "res = requests.get('https://www.utdallas.edu/utd-plays-ball/')\n",
        "###\n",
        "soup = BeautifulSoup(res.text,'xml')\n",
        "header = soup.find('h1')\n",
        "date = soup.select('h4 small')\n",
        "content = soup.find('p')\n",
        "###\n",
        "try:\n",
        "  f.write(header.text)\n",
        "except:\n",
        "  print(\"fail\")\n",
        "try:\n",
        "  f.write(date[0].text)\n",
        "except:\n",
        "  0\n",
        "try:\n",
        "  f.write(content.text)\n",
        "except:\n",
        "  0"
      ],
      "metadata": {
        "id": "lPkdstHWxxlf"
      },
      "execution_count": null,
      "outputs": []
    },
    {
      "cell_type": "code",
      "source": [
        "f.close()"
      ],
      "metadata": {
        "id": "RYLDF2pI3l3C"
      },
      "execution_count": null,
      "outputs": []
    },
    {
      "cell_type": "code",
      "source": [
        "print(\"School of Social Sciences Adds a Professor\"+\"\\n\"+\"August 30, 1981\")\n",
        "\n"
      ],
      "metadata": {
        "colab": {
          "base_uri": "https://localhost:8080/"
        },
        "id": "Gh_6qJJVy98c",
        "outputId": "dd0eb2ca-7095-410f-954c-b62d77c76090"
      },
      "execution_count": null,
      "outputs": [
        {
          "output_type": "stream",
          "name": "stdout",
          "text": [
            "School of Social Sciences Adds a Professor\n",
            "August 30, 1981\n"
          ]
        }
      ]
    },
    {
      "cell_type": "markdown",
      "source": [
        "# 2"
      ],
      "metadata": {
        "id": "CMlhXRdC9kYW"
      }
    },
    {
      "cell_type": "code",
      "source": [
        "f = open(\"test2.txt\", \"w\")   # 'r' for reading and 'w' for writing"
      ],
      "metadata": {
        "id": "A6uMjpEA1v6t"
      },
      "execution_count": null,
      "outputs": []
    },
    {
      "cell_type": "code",
      "source": [
        "url = \"https://www.utdallas.edu/wp-sitemap-posts-page-1.xml\"\n",
        "res = requests.get(url)\n",
        "soup = BeautifulSoup(res.text,'xml')\n",
        "links = soup.select('loc')\n",
        "unsuc_lst = []\n",
        "for link in links:\n",
        "  res = requests.get(link.text)\n",
        "  ###\n",
        "  soup = BeautifulSoup(res.text,'xml')\n",
        "  header = soup.find('h1')\n",
        "  content = soup.find_all('p')\n",
        "  ###\n",
        "  try:\n",
        "    f.write(header.text + ' ')\n",
        "    print(header.text)\n",
        "  except:\n",
        "    unsuc_lst.append(link.text)\n",
        "    time.sleep(1)\n",
        "    continue\n",
        "  for i in range(len(content)-4):\n",
        "    try:\n",
        "      f.write(content.text + \" \")\n",
        "    except:\n",
        "      0\n",
        "  f.write(\"\\n\")\n"
      ],
      "metadata": {
        "colab": {
          "base_uri": "https://localhost:8080/"
        },
        "id": "HXhQkkjB2Aec",
        "outputId": "378031e9-4bb4-40a6-bdae-ff40f91ee8f0"
      },
      "execution_count": null,
      "outputs": [
        {
          "output_type": "stream",
          "name": "stdout",
          "text": [
            "Transcript: Student Government\n",
            "Transcript: The UT Dallas Spirit of Innovation\n",
            "UT Dallas at the Speed of Bright\n",
            "Tobacco-Free Campus\n",
            "Report Tobacco Use on Campus\n",
            "Newsletters\n",
            "Founders Day\n",
            "Privacy\n",
            "Culture at UT Dallas\n",
            "Academic Calendar\n",
            "Student Research\n",
            "Campus Carry\n",
            "FAQ for Campus Carry\n",
            "Working Group\n",
            "Office of Communications\n",
            "UTD Alert\n",
            "Degrees\n",
            "Schools\n",
            "Tour UTD\n"
          ]
        }
      ]
    },
    {
      "cell_type": "code",
      "source": [
        "print(len(unsuc_lst))"
      ],
      "metadata": {
        "colab": {
          "base_uri": "https://localhost:8080/"
        },
        "id": "0vJ9BMz2NwU5",
        "outputId": "4e934a2e-a737-4f44-87db-37868b77a5fc"
      },
      "execution_count": null,
      "outputs": [
        {
          "output_type": "stream",
          "name": "stdout",
          "text": [
            "128\n"
          ]
        }
      ]
    },
    {
      "cell_type": "code",
      "source": [
        "while(len(unsuc_lst)>30):\n",
        "  tmp=[]\n",
        "  for link in unsuc_lst:\n",
        "    res = requests.get(link)\n",
        "    ###\n",
        "    soup = BeautifulSoup(res.text,'xml')\n",
        "    header = soup.find('h1')\n",
        "    content = soup.find_all('p')\n",
        "    ###\n",
        "    try:\n",
        "      f.write(header.text + ' ')\n",
        "      print(\"s\")\n",
        "    except:\n",
        "      tmp.append(link)\n",
        "      time.sleep(1)\n",
        "      continue\n",
        "    for i in range(len(content)-4):\n",
        "      try:\n",
        "        f.write(content.text + \" \")\n",
        "      except:\n",
        "        0\n",
        "    f.write(\"\\n\")\n",
        "  print(len(tmp))\n",
        "  unsuc_lst = tmp"
      ],
      "metadata": {
        "colab": {
          "base_uri": "https://localhost:8080/"
        },
        "id": "ldbQPMhG9d13",
        "outputId": "74bac689-193d-48e8-bf34-2bb1c1bb2eaa"
      },
      "execution_count": null,
      "outputs": [
        {
          "output_type": "stream",
          "name": "stdout",
          "text": [
            "s\n",
            "s\n",
            "s\n",
            "s\n",
            "s\n",
            "s\n",
            "s\n",
            "s\n",
            "s\n",
            "s\n",
            "s\n",
            "s\n",
            "s\n",
            "s\n",
            "s\n",
            "s\n",
            "s\n",
            "111\n",
            "s\n",
            "s\n",
            "s\n",
            "s\n",
            "s\n",
            "s\n",
            "s\n",
            "s\n",
            "s\n",
            "s\n",
            "s\n",
            "s\n",
            "s\n",
            "s\n",
            "s\n",
            "s\n",
            "95\n",
            "s\n",
            "s\n",
            "s\n",
            "s\n",
            "s\n",
            "s\n",
            "s\n",
            "s\n",
            "s\n",
            "s\n",
            "s\n",
            "84\n",
            "s\n",
            "s\n",
            "s\n",
            "s\n",
            "s\n",
            "s\n",
            "s\n",
            "s\n",
            "s\n",
            "s\n",
            "s\n",
            "s\n",
            "s\n",
            "s\n",
            "70\n",
            "s\n",
            "s\n",
            "s\n",
            "s\n",
            "s\n",
            "s\n",
            "s\n",
            "s\n",
            "s\n",
            "61\n",
            "s\n",
            "s\n",
            "s\n",
            "s\n",
            "s\n",
            "s\n",
            "s\n",
            "s\n",
            "53\n",
            "s\n",
            "s\n",
            "s\n",
            "s\n",
            "s\n",
            "s\n",
            "47\n",
            "s\n",
            "s\n",
            "s\n",
            "s\n",
            "s\n",
            "s\n",
            "s\n",
            "s\n",
            "s\n",
            "38\n",
            "s\n",
            "s\n",
            "s\n",
            "s\n",
            "34\n",
            "s\n",
            "s\n",
            "s\n",
            "s\n",
            "s\n",
            "s\n",
            "28\n"
          ]
        }
      ]
    },
    {
      "cell_type": "code",
      "source": [
        "res = requests.get(\"https://www.utdallas.edu/campus-life/student-services-support/\")\n",
        "###\n",
        "soup = BeautifulSoup(res.text,'xml')\n",
        "header = soup.find('h1')\n",
        "title = soup.find_all('h3')\n",
        "content = soup.find_all('p')\n",
        "###\n"
      ],
      "metadata": {
        "id": "gfYJF4B29nV4"
      },
      "execution_count": null,
      "outputs": []
    },
    {
      "cell_type": "code",
      "source": [
        "for i in range(len(content)-4):\n",
        "  print(i)\n",
        "  print(content[i].text)"
      ],
      "metadata": {
        "id": "ZJogqBPgA1Xh",
        "colab": {
          "base_uri": "https://localhost:8080/"
        },
        "outputId": "d6a10550-b1d7-4251-b750-257bc7a075f7"
      },
      "execution_count": null,
      "outputs": [
        {
          "output_type": "stream",
          "name": "stdout",
          "text": [
            "0\n",
            "UT Dallas provides students with services and support that contribute to success in and out of the classroom.\n",
            "1\n",
            "Graduating from UT Dallasis the culmination of students’ hard work, when Comets become proud alumni.\n",
            "2\n",
            "Media Servicesprovides classroom and event technology support, and infrastructure of audio/video systems to enhance classroom teaching, student learning, and presentations.\n",
            "3\n",
            "TheStudent Success Centeroffers review sessions, tutoring and other approaches of academic support.\n",
            "4\n",
            "Pick up books, supplies and clothing inside theVisitor Center and University Bookstore(VCB) orplace orders online.\n",
            "5\n",
            "TheCenter for Students in Recoveryhelps students with substance use disorders or other addictions and those affected by addiction.\n",
            "6\n",
            "TheStudent Counseling Centerprovides a safe, affirming and nonjudgmental environment to openly explore students’ concerns.\n",
            "7\n",
            "TheStudent Health Centerprovides primary and preventative health care.\n",
            "8\n",
            "TheStudent Wellness Centeris dedicated to the health and well-being of all UT Dallas students.\n",
            "9\n",
            "The Office of Campus Resources and Support houses four Campus Resource Centers that aim to strengthen community ties, cultivate and sustain UT Dallas’ vibrant Comet culture, foster the next generation of STEM leaders and advance accessibility for students and employees. \n",
            "10\n",
            "Intercultural Programspromote opportunities that foster global engagement and support the integration of international students into campus life.\n",
            "11\n",
            "TheInternational Centerpresents education activities and events, and offers programs for students wishing to study, work or volunteer abroad.\n",
            "12\n",
            "TheAccessAbility Resource Centerprovides academic accommodations for eligible students, facilitation of nonacademic and environmental accommodations and services, resources and referral information, and advocacy support.\n",
            "13\n",
            "TheComet Cents Money Management Centerprovides free education on saving/budgeting, credit management, student loans, identity theft and financial responsibilities after college.\n",
            "14\n",
            "TheComet Cupboardprovides necessary food and personal care items to members of the UT Dallas community.\n",
            "15\n",
            "Parking and Transportationoversees parking on campus, bus and shuttle services, car sharing and fueling services, and more.\n",
            "16\n",
            "UT Dallas’ full-serviceprinting and copying facilitycan handle graduation announcements, posters, journals, flyers and more.\n",
            "17\n",
            "Located in theVisitor Center and University Bookstore(VCB), theUTD Tech Storesells computers, software, mobile devices, accessories. The store also makes repairs and takes trade-ins.\n"
          ]
        }
      ]
    }
  ]
}