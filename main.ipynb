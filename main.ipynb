{
 "cells": [
  {
   "cell_type": "code",
   "execution_count": 1,
   "metadata": {},
   "outputs": [
    {
     "name": "stdout",
     "output_type": "stream",
     "text": [
      "Requirement already satisfied: langchain in /Library/Frameworks/Python.framework/Versions/3.12/lib/python3.12/site-packages (0.1.6)\n",
      "Requirement already satisfied: PyYAML>=5.3 in /Library/Frameworks/Python.framework/Versions/3.12/lib/python3.12/site-packages (from langchain) (6.0.1)\n",
      "Requirement already satisfied: SQLAlchemy<3,>=1.4 in /Library/Frameworks/Python.framework/Versions/3.12/lib/python3.12/site-packages (from langchain) (2.0.25)\n",
      "Requirement already satisfied: aiohttp<4.0.0,>=3.8.3 in /Library/Frameworks/Python.framework/Versions/3.12/lib/python3.12/site-packages (from langchain) (3.9.3)\n",
      "Requirement already satisfied: dataclasses-json<0.7,>=0.5.7 in /Library/Frameworks/Python.framework/Versions/3.12/lib/python3.12/site-packages (from langchain) (0.6.4)\n",
      "Requirement already satisfied: jsonpatch<2.0,>=1.33 in /Library/Frameworks/Python.framework/Versions/3.12/lib/python3.12/site-packages (from langchain) (1.33)\n",
      "Requirement already satisfied: langchain-community<0.1,>=0.0.18 in /Library/Frameworks/Python.framework/Versions/3.12/lib/python3.12/site-packages (from langchain) (0.0.19)\n",
      "Requirement already satisfied: langchain-core<0.2,>=0.1.22 in /Library/Frameworks/Python.framework/Versions/3.12/lib/python3.12/site-packages (from langchain) (0.1.22)\n",
      "Requirement already satisfied: langsmith<0.1,>=0.0.83 in /Library/Frameworks/Python.framework/Versions/3.12/lib/python3.12/site-packages (from langchain) (0.0.87)\n",
      "Requirement already satisfied: numpy<2,>=1 in /Library/Frameworks/Python.framework/Versions/3.12/lib/python3.12/site-packages (from langchain) (1.26.3)\n",
      "Requirement already satisfied: pydantic<3,>=1 in /Library/Frameworks/Python.framework/Versions/3.12/lib/python3.12/site-packages (from langchain) (2.5.3)\n",
      "Requirement already satisfied: requests<3,>=2 in /Library/Frameworks/Python.framework/Versions/3.12/lib/python3.12/site-packages (from langchain) (2.31.0)\n",
      "Requirement already satisfied: tenacity<9.0.0,>=8.1.0 in /Library/Frameworks/Python.framework/Versions/3.12/lib/python3.12/site-packages (from langchain) (8.2.3)\n",
      "Requirement already satisfied: aiosignal>=1.1.2 in /Library/Frameworks/Python.framework/Versions/3.12/lib/python3.12/site-packages (from aiohttp<4.0.0,>=3.8.3->langchain) (1.3.1)\n",
      "Requirement already satisfied: attrs>=17.3.0 in /Library/Frameworks/Python.framework/Versions/3.12/lib/python3.12/site-packages (from aiohttp<4.0.0,>=3.8.3->langchain) (23.2.0)\n",
      "Requirement already satisfied: frozenlist>=1.1.1 in /Library/Frameworks/Python.framework/Versions/3.12/lib/python3.12/site-packages (from aiohttp<4.0.0,>=3.8.3->langchain) (1.4.1)\n",
      "Requirement already satisfied: multidict<7.0,>=4.5 in /Library/Frameworks/Python.framework/Versions/3.12/lib/python3.12/site-packages (from aiohttp<4.0.0,>=3.8.3->langchain) (6.0.5)\n",
      "Requirement already satisfied: yarl<2.0,>=1.0 in /Library/Frameworks/Python.framework/Versions/3.12/lib/python3.12/site-packages (from aiohttp<4.0.0,>=3.8.3->langchain) (1.9.4)\n",
      "Requirement already satisfied: marshmallow<4.0.0,>=3.18.0 in /Library/Frameworks/Python.framework/Versions/3.12/lib/python3.12/site-packages (from dataclasses-json<0.7,>=0.5.7->langchain) (3.20.2)\n",
      "Requirement already satisfied: typing-inspect<1,>=0.4.0 in /Library/Frameworks/Python.framework/Versions/3.12/lib/python3.12/site-packages (from dataclasses-json<0.7,>=0.5.7->langchain) (0.9.0)\n",
      "Requirement already satisfied: jsonpointer>=1.9 in /Library/Frameworks/Python.framework/Versions/3.12/lib/python3.12/site-packages (from jsonpatch<2.0,>=1.33->langchain) (2.4)\n",
      "Requirement already satisfied: anyio<5,>=3 in /Library/Frameworks/Python.framework/Versions/3.12/lib/python3.12/site-packages (from langchain-core<0.2,>=0.1.22->langchain) (4.2.0)\n",
      "Requirement already satisfied: packaging<24.0,>=23.2 in /Users/saswanth/Library/Python/3.12/lib/python/site-packages (from langchain-core<0.2,>=0.1.22->langchain) (23.2)\n",
      "Requirement already satisfied: annotated-types>=0.4.0 in /Library/Frameworks/Python.framework/Versions/3.12/lib/python3.12/site-packages (from pydantic<3,>=1->langchain) (0.6.0)\n",
      "Requirement already satisfied: pydantic-core==2.14.6 in /Library/Frameworks/Python.framework/Versions/3.12/lib/python3.12/site-packages (from pydantic<3,>=1->langchain) (2.14.6)\n",
      "Requirement already satisfied: typing-extensions>=4.6.1 in /Library/Frameworks/Python.framework/Versions/3.12/lib/python3.12/site-packages (from pydantic<3,>=1->langchain) (4.9.0)\n",
      "Requirement already satisfied: charset-normalizer<4,>=2 in /Library/Frameworks/Python.framework/Versions/3.12/lib/python3.12/site-packages (from requests<3,>=2->langchain) (3.3.2)\n",
      "Requirement already satisfied: idna<4,>=2.5 in /Library/Frameworks/Python.framework/Versions/3.12/lib/python3.12/site-packages (from requests<3,>=2->langchain) (3.6)\n",
      "Requirement already satisfied: urllib3<3,>=1.21.1 in /Library/Frameworks/Python.framework/Versions/3.12/lib/python3.12/site-packages (from requests<3,>=2->langchain) (2.2.0)\n",
      "Requirement already satisfied: certifi>=2017.4.17 in /Library/Frameworks/Python.framework/Versions/3.12/lib/python3.12/site-packages (from requests<3,>=2->langchain) (2023.11.17)\n",
      "Requirement already satisfied: sniffio>=1.1 in /Library/Frameworks/Python.framework/Versions/3.12/lib/python3.12/site-packages (from anyio<5,>=3->langchain-core<0.2,>=0.1.22->langchain) (1.3.0)\n",
      "Requirement already satisfied: mypy-extensions>=0.3.0 in /Library/Frameworks/Python.framework/Versions/3.12/lib/python3.12/site-packages (from typing-inspect<1,>=0.4.0->dataclasses-json<0.7,>=0.5.7->langchain) (1.0.0)\n",
      "Requirement already satisfied: unstructured in /Library/Frameworks/Python.framework/Versions/3.12/lib/python3.12/site-packages (0.11.8)\n",
      "Requirement already satisfied: chardet in /Library/Frameworks/Python.framework/Versions/3.12/lib/python3.12/site-packages (from unstructured) (5.2.0)\n",
      "Requirement already satisfied: filetype in /Library/Frameworks/Python.framework/Versions/3.12/lib/python3.12/site-packages (from unstructured) (1.2.0)\n",
      "Requirement already satisfied: python-magic in /Library/Frameworks/Python.framework/Versions/3.12/lib/python3.12/site-packages (from unstructured) (0.4.27)\n",
      "Requirement already satisfied: lxml in /Library/Frameworks/Python.framework/Versions/3.12/lib/python3.12/site-packages (from unstructured) (5.1.0)\n",
      "Requirement already satisfied: nltk in /Library/Frameworks/Python.framework/Versions/3.12/lib/python3.12/site-packages (from unstructured) (3.8.1)\n",
      "Requirement already satisfied: tabulate in /Library/Frameworks/Python.framework/Versions/3.12/lib/python3.12/site-packages (from unstructured) (0.9.0)\n",
      "Requirement already satisfied: requests in /Library/Frameworks/Python.framework/Versions/3.12/lib/python3.12/site-packages (from unstructured) (2.31.0)\n",
      "Requirement already satisfied: beautifulsoup4 in /Library/Frameworks/Python.framework/Versions/3.12/lib/python3.12/site-packages (from unstructured) (4.12.3)\n",
      "Requirement already satisfied: emoji in /Library/Frameworks/Python.framework/Versions/3.12/lib/python3.12/site-packages (from unstructured) (2.10.1)\n",
      "Requirement already satisfied: dataclasses-json in /Library/Frameworks/Python.framework/Versions/3.12/lib/python3.12/site-packages (from unstructured) (0.6.4)\n",
      "Requirement already satisfied: python-iso639 in /Library/Frameworks/Python.framework/Versions/3.12/lib/python3.12/site-packages (from unstructured) (2024.2.7)\n",
      "Requirement already satisfied: langdetect in /Library/Frameworks/Python.framework/Versions/3.12/lib/python3.12/site-packages (from unstructured) (1.0.9)\n",
      "Requirement already satisfied: numpy in /Library/Frameworks/Python.framework/Versions/3.12/lib/python3.12/site-packages (from unstructured) (1.26.3)\n",
      "Requirement already satisfied: rapidfuzz in /Library/Frameworks/Python.framework/Versions/3.12/lib/python3.12/site-packages (from unstructured) (3.6.1)\n",
      "Requirement already satisfied: backoff in /Library/Frameworks/Python.framework/Versions/3.12/lib/python3.12/site-packages (from unstructured) (2.2.1)\n",
      "Requirement already satisfied: typing-extensions in /Library/Frameworks/Python.framework/Versions/3.12/lib/python3.12/site-packages (from unstructured) (4.9.0)\n",
      "Requirement already satisfied: unstructured-client in /Library/Frameworks/Python.framework/Versions/3.12/lib/python3.12/site-packages (from unstructured) (0.18.0)\n",
      "Requirement already satisfied: wrapt in /Library/Frameworks/Python.framework/Versions/3.12/lib/python3.12/site-packages (from unstructured) (1.16.0)\n",
      "Requirement already satisfied: soupsieve>1.2 in /Library/Frameworks/Python.framework/Versions/3.12/lib/python3.12/site-packages (from beautifulsoup4->unstructured) (2.5)\n",
      "Requirement already satisfied: marshmallow<4.0.0,>=3.18.0 in /Library/Frameworks/Python.framework/Versions/3.12/lib/python3.12/site-packages (from dataclasses-json->unstructured) (3.20.2)\n",
      "Requirement already satisfied: typing-inspect<1,>=0.4.0 in /Library/Frameworks/Python.framework/Versions/3.12/lib/python3.12/site-packages (from dataclasses-json->unstructured) (0.9.0)\n",
      "Requirement already satisfied: six in /Users/saswanth/Library/Python/3.12/lib/python/site-packages (from langdetect->unstructured) (1.16.0)\n",
      "Requirement already satisfied: click in /Library/Frameworks/Python.framework/Versions/3.12/lib/python3.12/site-packages (from nltk->unstructured) (8.1.7)\n",
      "Requirement already satisfied: joblib in /Library/Frameworks/Python.framework/Versions/3.12/lib/python3.12/site-packages (from nltk->unstructured) (1.3.2)\n",
      "Requirement already satisfied: regex>=2021.8.3 in /Library/Frameworks/Python.framework/Versions/3.12/lib/python3.12/site-packages (from nltk->unstructured) (2023.12.25)\n",
      "Requirement already satisfied: tqdm in /Library/Frameworks/Python.framework/Versions/3.12/lib/python3.12/site-packages (from nltk->unstructured) (4.66.1)\n",
      "Requirement already satisfied: charset-normalizer<4,>=2 in /Library/Frameworks/Python.framework/Versions/3.12/lib/python3.12/site-packages (from requests->unstructured) (3.3.2)\n",
      "Requirement already satisfied: idna<4,>=2.5 in /Library/Frameworks/Python.framework/Versions/3.12/lib/python3.12/site-packages (from requests->unstructured) (3.6)\n",
      "Requirement already satisfied: urllib3<3,>=1.21.1 in /Library/Frameworks/Python.framework/Versions/3.12/lib/python3.12/site-packages (from requests->unstructured) (2.2.0)\n",
      "Requirement already satisfied: certifi>=2017.4.17 in /Library/Frameworks/Python.framework/Versions/3.12/lib/python3.12/site-packages (from requests->unstructured) (2023.11.17)\n",
      "Requirement already satisfied: dataclasses-json-speakeasy>=0.5.11 in /Library/Frameworks/Python.framework/Versions/3.12/lib/python3.12/site-packages (from unstructured-client->unstructured) (0.5.11)\n",
      "Requirement already satisfied: jsonpath-python>=1.0.6 in /Library/Frameworks/Python.framework/Versions/3.12/lib/python3.12/site-packages (from unstructured-client->unstructured) (1.0.6)\n",
      "Requirement already satisfied: mypy-extensions>=1.0.0 in /Library/Frameworks/Python.framework/Versions/3.12/lib/python3.12/site-packages (from unstructured-client->unstructured) (1.0.0)\n",
      "Requirement already satisfied: packaging>=23.1 in /Users/saswanth/Library/Python/3.12/lib/python/site-packages (from unstructured-client->unstructured) (23.2)\n",
      "Requirement already satisfied: python-dateutil>=2.8.2 in /Users/saswanth/Library/Python/3.12/lib/python/site-packages (from unstructured-client->unstructured) (2.8.2)\n",
      "Collecting faiss-cpu\n",
      "  Using cached faiss-cpu-1.7.4.tar.gz (57 kB)\n",
      "  Installing build dependencies ... \u001b[?25ldone\n",
      "\u001b[?25h  Getting requirements to build wheel ... \u001b[?25ldone\n",
      "\u001b[?25h  Preparing metadata (pyproject.toml) ... \u001b[?25ldone\n",
      "\u001b[?25hBuilding wheels for collected packages: faiss-cpu\n",
      "  Building wheel for faiss-cpu (pyproject.toml) ... \u001b[?25lerror\n",
      "  \u001b[1;31merror\u001b[0m: \u001b[1msubprocess-exited-with-error\u001b[0m\n",
      "  \n",
      "  \u001b[31m×\u001b[0m \u001b[32mBuilding wheel for faiss-cpu \u001b[0m\u001b[1;32m(\u001b[0m\u001b[32mpyproject.toml\u001b[0m\u001b[1;32m)\u001b[0m did not run successfully.\n",
      "  \u001b[31m│\u001b[0m exit code: \u001b[1;36m1\u001b[0m\n",
      "  \u001b[31m╰─>\u001b[0m \u001b[31m[93 lines of output]\u001b[0m\n",
      "  \u001b[31m   \u001b[0m running bdist_wheel\n",
      "  \u001b[31m   \u001b[0m running build\n",
      "  \u001b[31m   \u001b[0m running build_py\n",
      "  \u001b[31m   \u001b[0m running build_ext\n",
      "  \u001b[31m   \u001b[0m building 'faiss._swigfaiss' extension\n",
      "  \u001b[31m   \u001b[0m swigging faiss/faiss/python/swigfaiss.i to faiss/faiss/python/swigfaiss_wrap.cpp\n",
      "  \u001b[31m   \u001b[0m swig -python -c++ -Doverride= -I/usr/local/include -Ifaiss -doxygen -module swigfaiss -o faiss/faiss/python/swigfaiss_wrap.cpp faiss/faiss/python/swigfaiss.i\n",
      "  \u001b[31m   \u001b[0m faiss/faiss/python/swigfaiss.i:268: Error: Unable to find 'faiss/impl/platform_macros.h'\n",
      "  \u001b[31m   \u001b[0m faiss/faiss/python/swigfaiss.i:272: Error: Unable to find 'faiss/utils/ordered_key_value.h'\n",
      "  \u001b[31m   \u001b[0m faiss/faiss/python/swigfaiss.i:273: Error: Unable to find 'faiss/utils/Heap.h'\n",
      "  \u001b[31m   \u001b[0m faiss/faiss/python/swigfaiss.i:278: Error: Unable to find 'faiss/utils/AlignedTable.h'\n",
      "  \u001b[31m   \u001b[0m faiss/faiss/python/swigfaiss.i:279: Error: Unable to find 'faiss/utils/partitioning.h'\n",
      "  \u001b[31m   \u001b[0m faiss/faiss/python/swigfaiss.i:280: Error: Unable to find 'faiss/utils/hamming.h'\n",
      "  \u001b[31m   \u001b[0m faiss/faiss/python/swigfaiss.i:281: Error: Unable to find 'faiss/utils/hamming_distance/common.h'\n",
      "  \u001b[31m   \u001b[0m faiss/faiss/python/swigfaiss.i:386: Error: Unable to find 'faiss/utils/utils.h'\n",
      "  \u001b[31m   \u001b[0m faiss/faiss/python/swigfaiss.i:387: Error: Unable to find 'faiss/utils/distances.h'\n",
      "  \u001b[31m   \u001b[0m faiss/faiss/python/swigfaiss.i:388: Error: Unable to find 'faiss/utils/random.h'\n",
      "  \u001b[31m   \u001b[0m faiss/faiss/python/swigfaiss.i:389: Error: Unable to find 'faiss/utils/sorting.h'\n",
      "  \u001b[31m   \u001b[0m faiss/faiss/python/swigfaiss.i:391: Error: Unable to find 'faiss/MetricType.h'\n",
      "  \u001b[31m   \u001b[0m faiss/faiss/python/swigfaiss.i:396: Error: Unable to find 'faiss/Index.h'\n",
      "  \u001b[31m   \u001b[0m faiss/faiss/python/swigfaiss.i:398: Error: Unable to find 'faiss/impl/DistanceComputer.h'\n",
      "  \u001b[31m   \u001b[0m faiss/faiss/python/swigfaiss.i:401: Error: Unable to find 'faiss/IndexFlatCodes.h'\n",
      "  \u001b[31m   \u001b[0m faiss/faiss/python/swigfaiss.i:402: Error: Unable to find 'faiss/IndexFlat.h'\n",
      "  \u001b[31m   \u001b[0m faiss/faiss/python/swigfaiss.i:403: Error: Unable to find 'faiss/Clustering.h'\n",
      "  \u001b[31m   \u001b[0m faiss/faiss/python/swigfaiss.i:405: Error: Unable to find 'faiss/utils/extra_distances.h'\n",
      "  \u001b[31m   \u001b[0m faiss/faiss/python/swigfaiss.i:409: Error: Unable to find 'faiss/impl/Quantizer.h'\n",
      "  \u001b[31m   \u001b[0m faiss/faiss/python/swigfaiss.i:410: Error: Unable to find 'faiss/impl/ProductQuantizer.h'\n",
      "  \u001b[31m   \u001b[0m faiss/faiss/python/swigfaiss.i:411: Error: Unable to find 'faiss/impl/AdditiveQuantizer.h'\n",
      "  \u001b[31m   \u001b[0m faiss/faiss/python/swigfaiss.i:412: Error: Unable to find 'faiss/impl/ResidualQuantizer.h'\n",
      "  \u001b[31m   \u001b[0m faiss/faiss/python/swigfaiss.i:413: Error: Unable to find 'faiss/impl/LocalSearchQuantizer.h'\n",
      "  \u001b[31m   \u001b[0m faiss/faiss/python/swigfaiss.i:414: Error: Unable to find 'faiss/impl/ProductAdditiveQuantizer.h'\n",
      "  \u001b[31m   \u001b[0m faiss/faiss/python/swigfaiss.i:415: Error: Unable to find 'faiss/impl/CodePacker.h'\n",
      "  \u001b[31m   \u001b[0m faiss/faiss/python/swigfaiss.i:417: Error: Unable to find 'faiss/VectorTransform.h'\n",
      "  \u001b[31m   \u001b[0m faiss/faiss/python/swigfaiss.i:418: Error: Unable to find 'faiss/IndexPreTransform.h'\n",
      "  \u001b[31m   \u001b[0m faiss/faiss/python/swigfaiss.i:419: Error: Unable to find 'faiss/IndexRefine.h'\n",
      "  \u001b[31m   \u001b[0m faiss/faiss/python/swigfaiss.i:420: Error: Unable to find 'faiss/IndexLSH.h'\n",
      "  \u001b[31m   \u001b[0m faiss/faiss/python/swigfaiss.i:421: Error: Unable to find 'faiss/impl/PolysemousTraining.h'\n",
      "  \u001b[31m   \u001b[0m faiss/faiss/python/swigfaiss.i:422: Error: Unable to find 'faiss/IndexPQ.h'\n",
      "  \u001b[31m   \u001b[0m faiss/faiss/python/swigfaiss.i:423: Error: Unable to find 'faiss/IndexAdditiveQuantizer.h'\n",
      "  \u001b[31m   \u001b[0m faiss/faiss/python/swigfaiss.i:424: Error: Unable to find 'faiss/impl/io.h'\n",
      "  \u001b[31m   \u001b[0m faiss/faiss/python/swigfaiss.i:426: Error: Unable to find 'faiss/invlists/InvertedLists.h'\n",
      "  \u001b[31m   \u001b[0m faiss/faiss/python/swigfaiss.i:427: Error: Unable to find 'faiss/invlists/InvertedListsIOHook.h'\n",
      "  \u001b[31m   \u001b[0m faiss/faiss/python/swigfaiss.i:429: Error: Unable to find 'faiss/invlists/BlockInvertedLists.h'\n",
      "  \u001b[31m   \u001b[0m faiss/faiss/python/swigfaiss.i:430: Error: Unable to find 'faiss/invlists/DirectMap.h'\n",
      "  \u001b[31m   \u001b[0m faiss/faiss/python/swigfaiss.i:431: Error: Unable to find 'faiss/IndexIVF.h'\n",
      "  \u001b[31m   \u001b[0m faiss/faiss/python/swigfaiss.i:436: Error: Unable to find 'faiss/IVFlib.h'\n",
      "  \u001b[31m   \u001b[0m faiss/faiss/python/swigfaiss.i:437: Error: Unable to find 'faiss/impl/ScalarQuantizer.h'\n",
      "  \u001b[31m   \u001b[0m faiss/faiss/python/swigfaiss.i:438: Error: Unable to find 'faiss/IndexScalarQuantizer.h'\n",
      "  \u001b[31m   \u001b[0m faiss/faiss/python/swigfaiss.i:439: Error: Unable to find 'faiss/IndexIVFSpectralHash.h'\n",
      "  \u001b[31m   \u001b[0m faiss/faiss/python/swigfaiss.i:440: Error: Unable to find 'faiss/IndexIVFAdditiveQuantizer.h'\n",
      "  \u001b[31m   \u001b[0m faiss/faiss/python/swigfaiss.i:441: Error: Unable to find 'faiss/impl/HNSW.h'\n",
      "  \u001b[31m   \u001b[0m faiss/faiss/python/swigfaiss.i:442: Error: Unable to find 'faiss/IndexHNSW.h'\n",
      "  \u001b[31m   \u001b[0m faiss/faiss/python/swigfaiss.i:444: Error: Unable to find 'faiss/impl/kmeans1d.h'\n",
      "  \u001b[31m   \u001b[0m faiss/faiss/python/swigfaiss.i:447: Error: Unable to find 'faiss/impl/NNDescent.h'\n",
      "  \u001b[31m   \u001b[0m faiss/faiss/python/swigfaiss.i:448: Error: Unable to find 'faiss/IndexNNDescent.h'\n",
      "  \u001b[31m   \u001b[0m faiss/faiss/python/swigfaiss.i:450: Error: Unable to find 'faiss/IndexIVFFlat.h'\n",
      "  \u001b[31m   \u001b[0m faiss/faiss/python/swigfaiss.i:451: Error: Unable to find 'faiss/impl/NSG.h'\n",
      "  \u001b[31m   \u001b[0m faiss/faiss/python/swigfaiss.i:452: Error: Unable to find 'faiss/IndexNSG.h'\n",
      "  \u001b[31m   \u001b[0m faiss/faiss/python/swigfaiss.i:457: Error: Unable to find 'faiss/invlists/OnDiskInvertedLists.h'\n",
      "  \u001b[31m   \u001b[0m faiss/faiss/python/swigfaiss.i:460: Error: Unable to find 'faiss/impl/lattice_Zn.h'\n",
      "  \u001b[31m   \u001b[0m faiss/faiss/python/swigfaiss.i:461: Error: Unable to find 'faiss/IndexLattice.h'\n",
      "  \u001b[31m   \u001b[0m faiss/faiss/python/swigfaiss.i:464: Error: Unable to find 'faiss/IndexIVFPQ.h'\n",
      "  \u001b[31m   \u001b[0m faiss/faiss/python/swigfaiss.i:465: Error: Unable to find 'faiss/IndexIVFPQR.h'\n",
      "  \u001b[31m   \u001b[0m faiss/faiss/python/swigfaiss.i:466: Error: Unable to find 'faiss/Index2Layer.h'\n",
      "  \u001b[31m   \u001b[0m faiss/faiss/python/swigfaiss.i:468: Error: Unable to find 'faiss/IndexFastScan.h'\n",
      "  \u001b[31m   \u001b[0m faiss/faiss/python/swigfaiss.i:469: Error: Unable to find 'faiss/IndexAdditiveQuantizerFastScan.h'\n",
      "  \u001b[31m   \u001b[0m faiss/faiss/python/swigfaiss.i:470: Error: Unable to find 'faiss/IndexPQFastScan.h'\n",
      "  \u001b[31m   \u001b[0m faiss/faiss/python/swigfaiss.i:471: Error: Unable to find 'faiss/IndexIVFFastScan.h'\n",
      "  \u001b[31m   \u001b[0m faiss/faiss/python/swigfaiss.i:472: Error: Unable to find 'faiss/IndexIVFAdditiveQuantizerFastScan.h'\n",
      "  \u001b[31m   \u001b[0m faiss/faiss/python/swigfaiss.i:473: Error: Unable to find 'faiss/IndexIVFPQFastScan.h'\n",
      "  \u001b[31m   \u001b[0m faiss/faiss/python/swigfaiss.i:474: Error: Unable to find 'faiss/utils/quantize_lut.h'\n",
      "  \u001b[31m   \u001b[0m faiss/faiss/python/swigfaiss.i:476: Error: Unable to find 'faiss/IndexBinary.h'\n",
      "  \u001b[31m   \u001b[0m faiss/faiss/python/swigfaiss.i:477: Error: Unable to find 'faiss/IndexBinaryFlat.h'\n",
      "  \u001b[31m   \u001b[0m faiss/faiss/python/swigfaiss.i:478: Error: Unable to find 'faiss/IndexBinaryIVF.h'\n",
      "  \u001b[31m   \u001b[0m faiss/faiss/python/swigfaiss.i:479: Error: Unable to find 'faiss/IndexBinaryFromFloat.h'\n",
      "  \u001b[31m   \u001b[0m faiss/faiss/python/swigfaiss.i:480: Error: Unable to find 'faiss/IndexBinaryHNSW.h'\n",
      "  \u001b[31m   \u001b[0m faiss/faiss/python/swigfaiss.i:481: Error: Unable to find 'faiss/IndexBinaryHash.h'\n",
      "  \u001b[31m   \u001b[0m faiss/faiss/python/swigfaiss.i:483: Error: Unable to find 'faiss/impl/ThreadedIndex.h'\n",
      "  \u001b[31m   \u001b[0m faiss/faiss/python/swigfaiss.i:487: Error: Unable to find 'faiss/IndexShards.h'\n",
      "  \u001b[31m   \u001b[0m faiss/faiss/python/swigfaiss.i:490: Error: Unable to find 'faiss/IndexShardsIVF.h'\n",
      "  \u001b[31m   \u001b[0m faiss/faiss/python/swigfaiss.i:492: Error: Unable to find 'faiss/IndexReplicas.h'\n",
      "  \u001b[31m   \u001b[0m faiss/faiss/python/swigfaiss.i:496: Error: Unable to find 'faiss/MetaIndexes.h'\n",
      "  \u001b[31m   \u001b[0m faiss/faiss/python/swigfaiss.i:497: Error: Unable to find 'faiss/IndexIDMap.h'\n",
      "  \u001b[31m   \u001b[0m faiss/faiss/python/swigfaiss.i:503: Error: Unable to find 'faiss/IndexRowwiseMinMax.h'\n",
      "  \u001b[31m   \u001b[0m faiss/faiss/python/swigfaiss.i:513: Error: Unable to find 'faiss/impl/AuxIndexStructures.h'\n",
      "  \u001b[31m   \u001b[0m faiss/faiss/python/swigfaiss.i:514: Error: Unable to find 'faiss/impl/IDSelector.h'\n",
      "  \u001b[31m   \u001b[0m faiss/faiss/python/swigfaiss.i:516: Error: Unable to find 'faiss/utils/approx_topk/mode.h'\n",
      "  \u001b[31m   \u001b[0m faiss/faiss/python/swigfaiss.i:753: Error: Unable to find 'faiss/index_io.h'\n",
      "  \u001b[31m   \u001b[0m faiss/faiss/python/swigfaiss.i:754: Error: Unable to find 'faiss/clone_index.h'\n",
      "  \u001b[31m   \u001b[0m faiss/faiss/python/swigfaiss.i:758: Error: Unable to find 'faiss/AutoTune.h'\n",
      "  \u001b[31m   \u001b[0m faiss/faiss/python/swigfaiss.i:759: Error: Unable to find 'faiss/index_factory.h'\n",
      "  \u001b[31m   \u001b[0m faiss/faiss/python/swigfaiss.i:760: Error: Unable to find 'faiss/MatrixStats.h'\n",
      "  \u001b[31m   \u001b[0m error: command '/opt/homebrew/bin/swig' failed with exit code 1\n",
      "  \u001b[31m   \u001b[0m \u001b[31m[end of output]\u001b[0m\n",
      "  \n",
      "  \u001b[1;35mnote\u001b[0m: This error originates from a subprocess, and is likely not a problem with pip.\n",
      "\u001b[?25h\u001b[31m  ERROR: Failed building wheel for faiss-cpu\u001b[0m\u001b[31m\n",
      "\u001b[0mFailed to build faiss-cpu\n",
      "\u001b[31mERROR: Could not build wheels for faiss-cpu, which is required to install pyproject.toml-based projects\u001b[0m\u001b[31m\n",
      "\u001b[0mRequirement already satisfied: openai in /Library/Frameworks/Python.framework/Versions/3.12/lib/python3.12/site-packages (1.10.0)\n",
      "Requirement already satisfied: anyio<5,>=3.5.0 in /Library/Frameworks/Python.framework/Versions/3.12/lib/python3.12/site-packages (from openai) (4.2.0)\n",
      "Requirement already satisfied: distro<2,>=1.7.0 in /Library/Frameworks/Python.framework/Versions/3.12/lib/python3.12/site-packages (from openai) (1.9.0)\n",
      "Requirement already satisfied: httpx<1,>=0.23.0 in /Library/Frameworks/Python.framework/Versions/3.12/lib/python3.12/site-packages (from openai) (0.26.0)\n",
      "Requirement already satisfied: pydantic<3,>=1.9.0 in /Library/Frameworks/Python.framework/Versions/3.12/lib/python3.12/site-packages (from openai) (2.5.3)\n",
      "Requirement already satisfied: sniffio in /Library/Frameworks/Python.framework/Versions/3.12/lib/python3.12/site-packages (from openai) (1.3.0)\n",
      "Requirement already satisfied: tqdm>4 in /Library/Frameworks/Python.framework/Versions/3.12/lib/python3.12/site-packages (from openai) (4.66.1)\n",
      "Requirement already satisfied: typing-extensions<5,>=4.7 in /Library/Frameworks/Python.framework/Versions/3.12/lib/python3.12/site-packages (from openai) (4.9.0)\n",
      "Requirement already satisfied: idna>=2.8 in /Library/Frameworks/Python.framework/Versions/3.12/lib/python3.12/site-packages (from anyio<5,>=3.5.0->openai) (3.6)\n",
      "Requirement already satisfied: certifi in /Library/Frameworks/Python.framework/Versions/3.12/lib/python3.12/site-packages (from httpx<1,>=0.23.0->openai) (2023.11.17)\n",
      "Requirement already satisfied: httpcore==1.* in /Library/Frameworks/Python.framework/Versions/3.12/lib/python3.12/site-packages (from httpx<1,>=0.23.0->openai) (1.0.2)\n",
      "Requirement already satisfied: h11<0.15,>=0.13 in /Library/Frameworks/Python.framework/Versions/3.12/lib/python3.12/site-packages (from httpcore==1.*->httpx<1,>=0.23.0->openai) (0.14.0)\n",
      "Requirement already satisfied: annotated-types>=0.4.0 in /Library/Frameworks/Python.framework/Versions/3.12/lib/python3.12/site-packages (from pydantic<3,>=1.9.0->openai) (0.6.0)\n",
      "Requirement already satisfied: pydantic-core==2.14.6 in /Library/Frameworks/Python.framework/Versions/3.12/lib/python3.12/site-packages (from pydantic<3,>=1.9.0->openai) (2.14.6)\n"
     ]
    }
   ],
   "source": [
    "!pip install langchain\n",
    "!pip install unstructured\n",
    "!pip install faiss-cpu\n",
    "!pip install openai\n"
   ]
  },
  {
   "cell_type": "code",
   "execution_count": null,
   "metadata": {},
   "outputs": [],
   "source": []
  },
  {
   "cell_type": "code",
   "execution_count": 2,
   "metadata": {},
   "outputs": [
    {
     "name": "stderr",
     "output_type": "stream",
     "text": [
      "/Users/saswanth/Library/Python/3.9/lib/python/site-packages/urllib3/__init__.py:35: NotOpenSSLWarning: urllib3 v2 only supports OpenSSL 1.1.1+, currently the 'ssl' module is compiled with 'LibreSSL 2.8.3'. See: https://github.com/urllib3/urllib3/issues/3020\n",
      "  warnings.warn(\n"
     ]
    }
   ],
   "source": [
    "from langchain_community.document_loaders import UnstructuredFileLoader\n",
    "loader = UnstructuredFileLoader(\"./example_data/state_of_the_union.txt\")"
   ]
  },
  {
   "cell_type": "code",
   "execution_count": 3,
   "metadata": {},
   "outputs": [
    {
     "name": "stdout",
     "output_type": "stream",
     "text": [
      "Defaulting to user installation because normal site-packages is not writeable\n",
      "Requirement already satisfied: faiss-cpu in /Users/saswanth/Library/Python/3.9/lib/python/site-packages (1.7.4)\n",
      "\u001b[33mWARNING: You are using pip version 21.2.4; however, version 24.0 is available.\n",
      "You should consider upgrading via the '/Library/Developer/CommandLineTools/usr/bin/python3 -m pip install --upgrade pip' command.\u001b[0m\n",
      "Note: you may need to restart the kernel to use updated packages.\n"
     ]
    }
   ],
   "source": [
    "pip install faiss-cpu"
   ]
  },
  {
   "cell_type": "code",
   "execution_count": 4,
   "metadata": {},
   "outputs": [
    {
     "name": "stdout",
     "output_type": "stream",
     "text": [
      "Defaulting to user installation because normal site-packages is not writeable\n",
      "Requirement already satisfied: openai in /Users/saswanth/Library/Python/3.9/lib/python/site-packages (1.12.0)\n",
      "Requirement already satisfied: tqdm>4 in /Users/saswanth/Library/Python/3.9/lib/python/site-packages (from openai) (4.66.2)\n",
      "Requirement already satisfied: httpx<1,>=0.23.0 in /Users/saswanth/Library/Python/3.9/lib/python/site-packages (from openai) (0.26.0)\n",
      "Requirement already satisfied: distro<2,>=1.7.0 in /Users/saswanth/Library/Python/3.9/lib/python/site-packages (from openai) (1.9.0)\n",
      "Requirement already satisfied: sniffio in /Users/saswanth/Library/Python/3.9/lib/python/site-packages (from openai) (1.3.0)\n",
      "Requirement already satisfied: pydantic<3,>=1.9.0 in /Users/saswanth/Library/Python/3.9/lib/python/site-packages (from openai) (2.6.1)\n",
      "Requirement already satisfied: typing-extensions<5,>=4.7 in /Users/saswanth/Library/Python/3.9/lib/python/site-packages (from openai) (4.9.0)\n",
      "Requirement already satisfied: anyio<5,>=3.5.0 in /Users/saswanth/Library/Python/3.9/lib/python/site-packages (from openai) (4.2.0)\n",
      "Requirement already satisfied: idna>=2.8 in /Users/saswanth/Library/Python/3.9/lib/python/site-packages (from anyio<5,>=3.5.0->openai) (3.6)\n",
      "Requirement already satisfied: exceptiongroup>=1.0.2 in /Users/saswanth/Library/Python/3.9/lib/python/site-packages (from anyio<5,>=3.5.0->openai) (1.2.0)\n",
      "Requirement already satisfied: httpcore==1.* in /Users/saswanth/Library/Python/3.9/lib/python/site-packages (from httpx<1,>=0.23.0->openai) (1.0.2)\n",
      "Requirement already satisfied: certifi in /Users/saswanth/Library/Python/3.9/lib/python/site-packages (from httpx<1,>=0.23.0->openai) (2024.2.2)\n",
      "Requirement already satisfied: h11<0.15,>=0.13 in /Users/saswanth/Library/Python/3.9/lib/python/site-packages (from httpcore==1.*->httpx<1,>=0.23.0->openai) (0.14.0)\n",
      "Requirement already satisfied: pydantic-core==2.16.2 in /Users/saswanth/Library/Python/3.9/lib/python/site-packages (from pydantic<3,>=1.9.0->openai) (2.16.2)\n",
      "Requirement already satisfied: annotated-types>=0.4.0 in /Users/saswanth/Library/Python/3.9/lib/python/site-packages (from pydantic<3,>=1.9.0->openai) (0.6.0)\n",
      "\u001b[33mWARNING: You are using pip version 21.2.4; however, version 24.0 is available.\n",
      "You should consider upgrading via the '/Library/Developer/CommandLineTools/usr/bin/python3 -m pip install --upgrade pip' command.\u001b[0m\n",
      "Note: you may need to restart the kernel to use updated packages.\n"
     ]
    }
   ],
   "source": [
    "pip install openai"
   ]
  },
  {
   "cell_type": "code",
   "execution_count": 5,
   "metadata": {},
   "outputs": [],
   "source": [
    "import os\n",
    "#..api connection here"
   ]
  },
  {
   "cell_type": "code",
   "execution_count": 6,
   "metadata": {},
   "outputs": [],
   "source": [
    "urls = [\n",
    "         'https://www.utdallas.edu/international/',\n",
    "         'https://enroll.utdallas.edu/apply/international-applicants/'\n",
    "         'https://icp.utdallas.edu/students/international-student-orientation/'\n",
    "]"
   ]
  },
  {
   "cell_type": "code",
   "execution_count": 7,
   "metadata": {},
   "outputs": [],
   "source": [
    "\n",
    "\n",
    "from langchain.document_loaders import UnstructuredURLLoader\n",
    "loaders = UnstructuredURLLoader (urls=urls)\n",
    "data = loaders.load()"
   ]
  },
  {
   "cell_type": "code",
   "execution_count": 8,
   "metadata": {},
   "outputs": [
    {
     "data": {
      "text/plain": [
       "[Document(page_content='The University of Texas at Dallas >\\n\\nInternational Students\\n\\nInternational Students\\n\\nWe welcome students from around the world to study in our 148 degree programs. More than 5,000 international students, from over 100 countries, attend UT Dallas.\\n\\nA World-Class Education\\n\\nThe University of Texas at Dallas is a Carnegie R1 classification (Doctoral Universities – Very high research activity) university nestled just a few miles north of downtown Dallas and minutes away from global corporate headquarters and a renowned arts district. UT\\xa0Dallas was established by the founders of Texas Instruments and is driven by their legacy of entrepreneurial spirit and commitment to academic excellence.\\n\\nA high-energy, nimble, innovative university, UT\\xa0Dallas offers top-ranked science, engineering and business programs and has gained prominence for a breadth of educational paths from audiology to arts and technology. Our faculty includes six members of the National Academies and more than 550 tenured and tenure-track professors.\\n\\nResources for International Students\\n\\nINTERNATIONAL ADMISSIONS\\n\\nThe UT Dallas Admission and Enrollment office helps prospective international students identify the available academic programs and follow the undergraduate and graduate application process of the University.\\n\\nMore Resources\\n\\nUTD INTERNATIONAL STUDENT SERVICES\\n\\nThe UT Dallas\\xa0International Center\\xa0and\\xa0Intercultural Programs‘ staff work together with campus partners to provide immigration and transitional services to help international students succeed in the United States. Programs include cultural festivals, English support, local trips, spouse and family events and American culture exposure.\\n\\nMESSAGE FROM THE PRESIDENT\\n\\nUT Dallas is firmly committed to the educational growth that comes through interactions with scholars from around the world.\\n\\nREAD A LETTER FROM PRESIDENT RICHARD C. BENSON\\n\\nEvents & Programs\\n\\nINTERNATIONAL STUDENT ORIENTATION\\n\\nInternational Student Orientation provides valuable information to ease your transition to UT\\xa0Dallas.\\n\\nLEARN MORE\\n\\nINTERNATIONAL WEEK\\n\\nInternational Week (iWeek) is an annual University tradition that celebrates global diversity.\\n\\nLEARN MORE\\n\\nIFRIEND PROGRAM\\n\\niFriend is a cultural exchange program where you can get involved and make new friends!\\n\\nLEARN MORE', metadata={'source': 'https://www.utdallas.edu/international/'}),\n",
       " Document(page_content=\"The University of Texas at Dallas\\n\\t\\t\\t\\t\\t\\t\\t\\t\\t\\n\\t\\t\\t\\t\\t\\t\\t\\t\\t\\n\\t\\t\\t\\t\\t\\t\\t\\t >\\n\\nPage Not Found\\n\\nPage Not Found\\n\\nThe page you requested does not exist: enroll.utdallas.edu/apply/international-applicants/https:/icp.utdallas.edu/students/international-student-orientation/\\n\\nYou may have arrived here because of:\\n\\na broken link, or\\n\\nan out-of-date bookmark, or\\n\\na search engine which needs to be updated, or\\n\\na mistyped website address.\\n\\nPlease contact webdeveloper@utdallas.edu to report outdated or incorrect information, or a broken link.\\n\\nThe following may help you find the page you're looking for:\\n\\nUT Dallas Homepage\\n\\nA to Z Index\", metadata={'source': 'https://enroll.utdallas.edu/apply/international-applicants/https://icp.utdallas.edu/students/international-student-orientation/'})]"
      ]
     },
     "execution_count": 8,
     "metadata": {},
     "output_type": "execute_result"
    }
   ],
   "source": [
    "data\n",
    "#check "
   ]
  }
 ],
 "metadata": {
  "kernelspec": {
   "display_name": "Python 3",
   "language": "python",
   "name": "python3"
  },
  "language_info": {
   "codemirror_mode": {
    "name": "ipython",
    "version": 3
   },
   "file_extension": ".py",
   "mimetype": "text/x-python",
   "name": "python",
   "nbconvert_exporter": "python",
   "pygments_lexer": "ipython3",
   "version": "3.9.6"
  }
 },
 "nbformat": 4,
 "nbformat_minor": 2
}
