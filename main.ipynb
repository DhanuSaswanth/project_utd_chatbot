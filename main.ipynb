{
 "cells": [
  {
   "cell_type": "code",
   "execution_count": 2,
   "metadata": {},
   "outputs": [
    {
     "name": "stdout",
     "output_type": "stream",
     "text": [
      "Requirement already satisfied: langchain in /Library/Frameworks/Python.framework/Versions/3.12/lib/python3.12/site-packages (0.1.6)\n",
      "Requirement already satisfied: PyYAML>=5.3 in /Library/Frameworks/Python.framework/Versions/3.12/lib/python3.12/site-packages (from langchain) (6.0.1)\n",
      "Requirement already satisfied: SQLAlchemy<3,>=1.4 in /Library/Frameworks/Python.framework/Versions/3.12/lib/python3.12/site-packages (from langchain) (2.0.25)\n",
      "Requirement already satisfied: aiohttp<4.0.0,>=3.8.3 in /Library/Frameworks/Python.framework/Versions/3.12/lib/python3.12/site-packages (from langchain) (3.9.3)\n",
      "Requirement already satisfied: dataclasses-json<0.7,>=0.5.7 in /Library/Frameworks/Python.framework/Versions/3.12/lib/python3.12/site-packages (from langchain) (0.6.4)\n",
      "Requirement already satisfied: jsonpatch<2.0,>=1.33 in /Library/Frameworks/Python.framework/Versions/3.12/lib/python3.12/site-packages (from langchain) (1.33)\n",
      "Requirement already satisfied: langchain-community<0.1,>=0.0.18 in /Library/Frameworks/Python.framework/Versions/3.12/lib/python3.12/site-packages (from langchain) (0.0.19)\n",
      "Requirement already satisfied: langchain-core<0.2,>=0.1.22 in /Library/Frameworks/Python.framework/Versions/3.12/lib/python3.12/site-packages (from langchain) (0.1.22)\n",
      "Requirement already satisfied: langsmith<0.1,>=0.0.83 in /Library/Frameworks/Python.framework/Versions/3.12/lib/python3.12/site-packages (from langchain) (0.0.87)\n",
      "Requirement already satisfied: numpy<2,>=1 in /Library/Frameworks/Python.framework/Versions/3.12/lib/python3.12/site-packages (from langchain) (1.26.3)\n",
      "Requirement already satisfied: pydantic<3,>=1 in /Library/Frameworks/Python.framework/Versions/3.12/lib/python3.12/site-packages (from langchain) (2.5.3)\n",
      "Requirement already satisfied: requests<3,>=2 in /Library/Frameworks/Python.framework/Versions/3.12/lib/python3.12/site-packages (from langchain) (2.31.0)\n",
      "Requirement already satisfied: tenacity<9.0.0,>=8.1.0 in /Library/Frameworks/Python.framework/Versions/3.12/lib/python3.12/site-packages (from langchain) (8.2.3)\n",
      "Requirement already satisfied: aiosignal>=1.1.2 in /Library/Frameworks/Python.framework/Versions/3.12/lib/python3.12/site-packages (from aiohttp<4.0.0,>=3.8.3->langchain) (1.3.1)\n",
      "Requirement already satisfied: attrs>=17.3.0 in /Library/Frameworks/Python.framework/Versions/3.12/lib/python3.12/site-packages (from aiohttp<4.0.0,>=3.8.3->langchain) (23.2.0)\n",
      "Requirement already satisfied: frozenlist>=1.1.1 in /Library/Frameworks/Python.framework/Versions/3.12/lib/python3.12/site-packages (from aiohttp<4.0.0,>=3.8.3->langchain) (1.4.1)\n",
      "Requirement already satisfied: multidict<7.0,>=4.5 in /Library/Frameworks/Python.framework/Versions/3.12/lib/python3.12/site-packages (from aiohttp<4.0.0,>=3.8.3->langchain) (6.0.5)\n",
      "Requirement already satisfied: yarl<2.0,>=1.0 in /Library/Frameworks/Python.framework/Versions/3.12/lib/python3.12/site-packages (from aiohttp<4.0.0,>=3.8.3->langchain) (1.9.4)\n",
      "Requirement already satisfied: marshmallow<4.0.0,>=3.18.0 in /Library/Frameworks/Python.framework/Versions/3.12/lib/python3.12/site-packages (from dataclasses-json<0.7,>=0.5.7->langchain) (3.20.2)\n",
      "Requirement already satisfied: typing-inspect<1,>=0.4.0 in /Library/Frameworks/Python.framework/Versions/3.12/lib/python3.12/site-packages (from dataclasses-json<0.7,>=0.5.7->langchain) (0.9.0)\n",
      "Requirement already satisfied: jsonpointer>=1.9 in /Library/Frameworks/Python.framework/Versions/3.12/lib/python3.12/site-packages (from jsonpatch<2.0,>=1.33->langchain) (2.4)\n",
      "Requirement already satisfied: anyio<5,>=3 in /Library/Frameworks/Python.framework/Versions/3.12/lib/python3.12/site-packages (from langchain-core<0.2,>=0.1.22->langchain) (4.2.0)\n",
      "Requirement already satisfied: packaging<24.0,>=23.2 in /Users/saswanth/Library/Python/3.12/lib/python/site-packages (from langchain-core<0.2,>=0.1.22->langchain) (23.2)\n",
      "Requirement already satisfied: annotated-types>=0.4.0 in /Library/Frameworks/Python.framework/Versions/3.12/lib/python3.12/site-packages (from pydantic<3,>=1->langchain) (0.6.0)\n",
      "Requirement already satisfied: pydantic-core==2.14.6 in /Library/Frameworks/Python.framework/Versions/3.12/lib/python3.12/site-packages (from pydantic<3,>=1->langchain) (2.14.6)\n",
      "Requirement already satisfied: typing-extensions>=4.6.1 in /Library/Frameworks/Python.framework/Versions/3.12/lib/python3.12/site-packages (from pydantic<3,>=1->langchain) (4.9.0)\n",
      "Requirement already satisfied: charset-normalizer<4,>=2 in /Library/Frameworks/Python.framework/Versions/3.12/lib/python3.12/site-packages (from requests<3,>=2->langchain) (3.3.2)\n",
      "Requirement already satisfied: idna<4,>=2.5 in /Library/Frameworks/Python.framework/Versions/3.12/lib/python3.12/site-packages (from requests<3,>=2->langchain) (3.6)\n",
      "Requirement already satisfied: urllib3<3,>=1.21.1 in /Library/Frameworks/Python.framework/Versions/3.12/lib/python3.12/site-packages (from requests<3,>=2->langchain) (2.2.0)\n",
      "Requirement already satisfied: certifi>=2017.4.17 in /Library/Frameworks/Python.framework/Versions/3.12/lib/python3.12/site-packages (from requests<3,>=2->langchain) (2023.11.17)\n",
      "Requirement already satisfied: sniffio>=1.1 in /Library/Frameworks/Python.framework/Versions/3.12/lib/python3.12/site-packages (from anyio<5,>=3->langchain-core<0.2,>=0.1.22->langchain) (1.3.0)\n",
      "Requirement already satisfied: mypy-extensions>=0.3.0 in /Library/Frameworks/Python.framework/Versions/3.12/lib/python3.12/site-packages (from typing-inspect<1,>=0.4.0->dataclasses-json<0.7,>=0.5.7->langchain) (1.0.0)\n"
     ]
    }
   ],
   "source": [
    "!pip install langchain\n"
   ]
  },
  {
   "cell_type": "code",
   "execution_count": 3,
   "metadata": {},
   "outputs": [
    {
     "name": "stdout",
     "output_type": "stream",
     "text": [
      "Defaulting to user installation because normal site-packages is not writeable\n",
      "Requirement already satisfied: unstructured in /Users/saswanth/Library/Python/3.9/lib/python/site-packages (0.12.4)\n",
      "Requirement already satisfied: python-magic in /Users/saswanth/Library/Python/3.9/lib/python/site-packages (from unstructured) (0.4.27)\n",
      "Requirement already satisfied: langdetect in /Users/saswanth/Library/Python/3.9/lib/python/site-packages (from unstructured) (1.0.9)\n",
      "Requirement already satisfied: python-iso639 in /Users/saswanth/Library/Python/3.9/lib/python/site-packages (from unstructured) (2024.2.7)\n",
      "Requirement already satisfied: backoff in /Users/saswanth/Library/Python/3.9/lib/python/site-packages (from unstructured) (2.2.1)\n",
      "Requirement already satisfied: tabulate in /Users/saswanth/Library/Python/3.9/lib/python/site-packages (from unstructured) (0.9.0)\n",
      "Requirement already satisfied: wrapt in /Users/saswanth/Library/Python/3.9/lib/python/site-packages (from unstructured) (1.16.0)\n",
      "Requirement already satisfied: dataclasses-json in /Users/saswanth/Library/Python/3.9/lib/python/site-packages (from unstructured) (0.6.4)\n",
      "Requirement already satisfied: typing-extensions in /Users/saswanth/Library/Python/3.9/lib/python/site-packages (from unstructured) (4.9.0)\n",
      "Requirement already satisfied: nltk in /Users/saswanth/Library/Python/3.9/lib/python/site-packages (from unstructured) (3.8.1)\n",
      "Requirement already satisfied: requests in /Users/saswanth/Library/Python/3.9/lib/python/site-packages (from unstructured) (2.31.0)\n",
      "Requirement already satisfied: lxml in /Users/saswanth/Library/Python/3.9/lib/python/site-packages (from unstructured) (5.1.0)\n",
      "Requirement already satisfied: numpy in /Users/saswanth/Library/Python/3.9/lib/python/site-packages (from unstructured) (1.26.4)\n",
      "Requirement already satisfied: beautifulsoup4 in /Users/saswanth/Library/Python/3.9/lib/python/site-packages (from unstructured) (4.12.3)\n",
      "Requirement already satisfied: unstructured-client>=0.15.1 in /Users/saswanth/Library/Python/3.9/lib/python/site-packages (from unstructured) (0.18.0)\n",
      "Requirement already satisfied: chardet in /Users/saswanth/Library/Python/3.9/lib/python/site-packages (from unstructured) (5.2.0)\n",
      "Requirement already satisfied: emoji in /Users/saswanth/Library/Python/3.9/lib/python/site-packages (from unstructured) (2.10.1)\n",
      "Requirement already satisfied: rapidfuzz in /Users/saswanth/Library/Python/3.9/lib/python/site-packages (from unstructured) (3.6.1)\n",
      "Requirement already satisfied: filetype in /Users/saswanth/Library/Python/3.9/lib/python/site-packages (from unstructured) (1.2.0)\n",
      "Requirement already satisfied: dataclasses-json-speakeasy>=0.5.11 in /Users/saswanth/Library/Python/3.9/lib/python/site-packages (from unstructured-client>=0.15.1->unstructured) (0.5.11)\n",
      "Requirement already satisfied: jsonpath-python>=1.0.6 in /Users/saswanth/Library/Python/3.9/lib/python/site-packages (from unstructured-client>=0.15.1->unstructured) (1.0.6)\n",
      "Requirement already satisfied: mypy-extensions>=1.0.0 in /Users/saswanth/Library/Python/3.9/lib/python/site-packages (from unstructured-client>=0.15.1->unstructured) (1.0.0)\n",
      "Requirement already satisfied: packaging>=23.1 in /Users/saswanth/Library/Python/3.9/lib/python/site-packages (from unstructured-client>=0.15.1->unstructured) (23.2)\n",
      "Requirement already satisfied: urllib3>=1.26.18 in /Users/saswanth/Library/Python/3.9/lib/python/site-packages (from unstructured-client>=0.15.1->unstructured) (2.2.0)\n",
      "Requirement already satisfied: python-dateutil>=2.8.2 in /Users/saswanth/Library/Python/3.9/lib/python/site-packages (from unstructured-client>=0.15.1->unstructured) (2.8.2)\n",
      "Requirement already satisfied: typing-inspect>=0.9.0 in /Users/saswanth/Library/Python/3.9/lib/python/site-packages (from unstructured-client>=0.15.1->unstructured) (0.9.0)\n",
      "Requirement already satisfied: idna>=3.4 in /Users/saswanth/Library/Python/3.9/lib/python/site-packages (from unstructured-client>=0.15.1->unstructured) (3.6)\n",
      "Requirement already satisfied: marshmallow>=3.19.0 in /Users/saswanth/Library/Python/3.9/lib/python/site-packages (from unstructured-client>=0.15.1->unstructured) (3.20.2)\n",
      "Requirement already satisfied: six>=1.16.0 in /Users/saswanth/Library/Python/3.9/lib/python/site-packages (from unstructured-client>=0.15.1->unstructured) (1.16.0)\n",
      "Requirement already satisfied: charset-normalizer>=3.2.0 in /Users/saswanth/Library/Python/3.9/lib/python/site-packages (from unstructured-client>=0.15.1->unstructured) (3.3.2)\n",
      "Requirement already satisfied: certifi>=2023.7.22 in /Users/saswanth/Library/Python/3.9/lib/python/site-packages (from unstructured-client>=0.15.1->unstructured) (2024.2.2)\n",
      "Requirement already satisfied: soupsieve>1.2 in /Users/saswanth/Library/Python/3.9/lib/python/site-packages (from beautifulsoup4->unstructured) (2.5)\n",
      "Requirement already satisfied: click in /Users/saswanth/Library/Python/3.9/lib/python/site-packages (from nltk->unstructured) (8.1.7)\n",
      "Requirement already satisfied: joblib in /Users/saswanth/Library/Python/3.9/lib/python/site-packages (from nltk->unstructured) (1.3.2)\n",
      "Requirement already satisfied: tqdm in /Users/saswanth/Library/Python/3.9/lib/python/site-packages (from nltk->unstructured) (4.66.2)\n",
      "Requirement already satisfied: regex>=2021.8.3 in /Users/saswanth/Library/Python/3.9/lib/python/site-packages (from nltk->unstructured) (2023.12.25)\n",
      "\u001b[33mWARNING: You are using pip version 21.2.4; however, version 24.0 is available.\n",
      "You should consider upgrading via the '/Library/Developer/CommandLineTools/usr/bin/python3 -m pip install --upgrade pip' command.\u001b[0m\n",
      "Note: you may need to restart the kernel to use updated packages.\n"
     ]
    }
   ],
   "source": [
    "pip install unstructured"
   ]
  },
  {
   "cell_type": "code",
   "execution_count": 4,
   "metadata": {},
   "outputs": [],
   "source": [
    "from langchain_community.document_loaders import UnstructuredFileLoader\n",
    "loader = UnstructuredFileLoader(\"./example_data/state_of_the_union.txt\")"
   ]
  },
  {
   "cell_type": "code",
   "execution_count": 5,
   "metadata": {},
   "outputs": [
    {
     "name": "stdout",
     "output_type": "stream",
     "text": [
      "Defaulting to user installation because normal site-packages is not writeable\n",
      "Requirement already satisfied: faiss-cpu in /Users/saswanth/Library/Python/3.9/lib/python/site-packages (1.7.4)\n",
      "\u001b[33mWARNING: You are using pip version 21.2.4; however, version 24.0 is available.\n",
      "You should consider upgrading via the '/Library/Developer/CommandLineTools/usr/bin/python3 -m pip install --upgrade pip' command.\u001b[0m\n",
      "Note: you may need to restart the kernel to use updated packages.\n"
     ]
    }
   ],
   "source": [
    "pip install faiss-cpu"
   ]
  },
  {
   "cell_type": "code",
   "execution_count": 6,
   "metadata": {},
   "outputs": [
    {
     "name": "stdout",
     "output_type": "stream",
     "text": [
      "Defaulting to user installation because normal site-packages is not writeable\n",
      "Requirement already satisfied: openai in /Users/saswanth/Library/Python/3.9/lib/python/site-packages (1.12.0)\n",
      "Requirement already satisfied: sniffio in /Users/saswanth/Library/Python/3.9/lib/python/site-packages (from openai) (1.3.0)\n",
      "Requirement already satisfied: typing-extensions<5,>=4.7 in /Users/saswanth/Library/Python/3.9/lib/python/site-packages (from openai) (4.9.0)\n",
      "Requirement already satisfied: anyio<5,>=3.5.0 in /Users/saswanth/Library/Python/3.9/lib/python/site-packages (from openai) (4.2.0)\n",
      "Requirement already satisfied: httpx<1,>=0.23.0 in /Users/saswanth/Library/Python/3.9/lib/python/site-packages (from openai) (0.26.0)\n",
      "Requirement already satisfied: pydantic<3,>=1.9.0 in /Users/saswanth/Library/Python/3.9/lib/python/site-packages (from openai) (2.6.1)\n",
      "Requirement already satisfied: distro<2,>=1.7.0 in /Users/saswanth/Library/Python/3.9/lib/python/site-packages (from openai) (1.9.0)\n",
      "Requirement already satisfied: tqdm>4 in /Users/saswanth/Library/Python/3.9/lib/python/site-packages (from openai) (4.66.2)\n",
      "Requirement already satisfied: idna>=2.8 in /Users/saswanth/Library/Python/3.9/lib/python/site-packages (from anyio<5,>=3.5.0->openai) (3.6)\n",
      "Requirement already satisfied: exceptiongroup>=1.0.2 in /Users/saswanth/Library/Python/3.9/lib/python/site-packages (from anyio<5,>=3.5.0->openai) (1.2.0)\n",
      "Requirement already satisfied: httpcore==1.* in /Users/saswanth/Library/Python/3.9/lib/python/site-packages (from httpx<1,>=0.23.0->openai) (1.0.2)\n",
      "Requirement already satisfied: certifi in /Users/saswanth/Library/Python/3.9/lib/python/site-packages (from httpx<1,>=0.23.0->openai) (2024.2.2)\n",
      "Requirement already satisfied: h11<0.15,>=0.13 in /Users/saswanth/Library/Python/3.9/lib/python/site-packages (from httpcore==1.*->httpx<1,>=0.23.0->openai) (0.14.0)\n",
      "Requirement already satisfied: pydantic-core==2.16.2 in /Users/saswanth/Library/Python/3.9/lib/python/site-packages (from pydantic<3,>=1.9.0->openai) (2.16.2)\n",
      "Requirement already satisfied: annotated-types>=0.4.0 in /Users/saswanth/Library/Python/3.9/lib/python/site-packages (from pydantic<3,>=1.9.0->openai) (0.6.0)\n",
      "\u001b[33mWARNING: You are using pip version 21.2.4; however, version 24.0 is available.\n",
      "You should consider upgrading via the '/Library/Developer/CommandLineTools/usr/bin/python3 -m pip install --upgrade pip' command.\u001b[0m\n",
      "Note: you may need to restart the kernel to use updated packages.\n"
     ]
    }
   ],
   "source": [
    "pip install openai"
   ]
  },
  {
   "cell_type": "code",
   "execution_count": 7,
   "metadata": {},
   "outputs": [],
   "source": [
    "import os\n",
    "#..api connection here"
   ]
  },
  {
   "cell_type": "code",
   "execution_count": 10,
   "metadata": {},
   "outputs": [],
   "source": [
    "urls = [\n",
    "         'https://www.utdallas.edu/fact-sheets/is/ba-american-studies/',\n",
    "         'https://www.utdallas.edu/fact-sheets/is/bs-healthcare-studies/'\n",
    "]"
   ]
  },
  {
   "cell_type": "code",
   "execution_count": 12,
   "metadata": {},
   "outputs": [],
   "source": [
    "\n",
    "\n",
    "from langchain.document_loaders import UnstructuredURLLoader\n",
    "loaders = UnstructuredURLLoader (urls=urls)\n",
    "data = loaders.load()"
   ]
  },
  {
   "cell_type": "code",
   "execution_count": 13,
   "metadata": {},
   "outputs": [
    {
     "data": {
      "text/plain": [
       "[Document(page_content='Bachelor of Arts in American Studies\\n\\nAmerican studies is the interdisciplinary study of the American experience, past and present. Students pursuing an American Studies degree draw on course offerings from across the University as they explore, analyze, and interpret American culture and society.\\n\\nThe major and the minor in American Studies offer students the flexibility to design a course of study focused on their unique interests and career goals.\\n\\nAmerican Studies at UT Dallas\\n\\nAmerican studies majors, in consultation with the program head, construct two concentrations in which the majority of the upper-division coursework for the major is carried out. Each concentration must be interdisciplinary and attentive to historicity, but within those parameters, students have a great deal of latitude to develop individualized programs of study. Possible concentrations include:\\n\\nAmerican Legal System\\n\\nGender in American Culture & Society\\n\\nAmerican Popular Culture\\n\\nPolitical and Social Movements\\n\\nU.S. and the World\\n\\nRace and Ethnicity in American Life\\n\\nBusiness in America\\n\\nThe American Environment\\n\\nMedia and Communication Studies\\n\\nPolitics in American Society\\n\\nTechnology in American Life\\n\\nPlease see our website for the most current information.\\n\\nCareers in American Studies\\n\\nA degree in American Studies can prepare students for careers in nonprofit organizations, government, cultural industries, and the media, as well as in the corporate world. The bachelor’s degree in American studies is an excellent preparation for law or graduate school.\\n\\nThe University’s Career Center is an important resource for students pursuing postgraduation employment. Licensed counselors are available to provide strategies for mastering job interviews, writing professional cover letters and resumes and connecting with campus recruiters, among other services.\\n\\nMarketable Skills\\n\\nReview the marketable skills for this academic program.\\n\\nAbout the School of Interdisciplinary Studies\\n\\nThe programs of the School of Interdisciplinary Studies (IS) provide students with a broad learning experience. Because of the individualized focus and flexibility, the program is appropriate for both students preparing to enter the workplace and those planning to continue their studies. IS students are encouraged to customize a degree plan using two or more disciplines — a combination of business and the social sciences, for example — or they can tailor degrees in American studies or Healthcare studies around topics of interest.\\n\\nDegrees Offered\\n\\nBachelor of Arts: American studies, interdisciplinary studies\\n\\nBachelor of Science: Healthcare studies, interdisciplinary studies\\n\\nMaster of Arts: Interdisciplinary studies\\n\\nMinors Offered\\n\\nIf your academic focus leads you elsewhere at UT Dallas, but you would still like to pursue studies in the School of Interdisciplinary Studies, the following minors are available:\\n\\nAmerican Studies\\n\\nEnvironmental Studies\\n\\nExercise Sciences\\n\\nGender Studies\\n\\nHealthcare Studies\\n\\nInternships and Honors\\n\\nThe School of Interdisciplinary Studies internship program at UT Dallas offers students the opportunity for practical experience in their field of interest:\\n\\nExperience in a professional work environment\\n\\nAcademic credit under faculty supervision\\n\\nThe chance to try a career or industry before committing to a full-time employment\\n\\nAdditional Facts\\n\\nThe University’s Teacher Development Center (TDC) is housed in the School of Interdisciplinary Studies and provides rigorous, university-based coursework with extensive field experience, including student teaching or a supervised post-baccalaureate internship for students interested in making teaching or school administration their career. The TDC offers teacher certification options for both undergraduate and post-baccalaureate students.\\n\\nThe University’s Academic Bridge Program, for which the school is responsible, assists high-potential students who may not have completed a college-track high school curriculum to transition to the academically rigorous environment of UT Dallas.\\n\\nCatalog Page\\n\\nApply Now\\n\\nContact Information\\n\\nSchool of Interdisciplinary Studies\\n\\nSchool of Interdisciplinary Studies\\n\\n800 W. Campbell Road\\n\\nRichardson, TX 75080-3021\\n\\nPhone: 972-883-2350\\n\\nWebsite:\\n\\nis.utdallas.edu\\n\\nDr. Larissa Werhnyak\\n\\nDr. Larissa Werhnyak\\n\\nlarissa.werhnyak@utdallas.edu\\n\\nPhone: 972-883-6259\\n\\nOffice:\\n\\nHH 2.812\\n\\nPrint This Page\\n\\nDownload PDF', metadata={'source': 'https://www.utdallas.edu/fact-sheets/is/ba-american-studies/'}),\n",
       " Document(page_content='Bachelor of Science in Healthcare Studies\\n\\nThe Bachelor of Science in Healthcare Studies degree is a well-rounded degree that prepares students for future training as well as employment in the health care industry.\\n\\nThe program provides the academic foundation for pre-health students to prepare for advanced study as well as the essential knowledge components in health care studies. Science coursework includes biology, chemistry and physics. Health care studies include:\\n\\nPre-health professional development.\\n\\nHealthcare internship.\\n\\nMedical terminology.\\n\\nPsychological aspects of health and illness.\\n\\nUnderstanding of the U.S. health care system.\\n\\nPatient education.\\n\\nPrevention.\\n\\nPlease see our website for the most current information.\\n\\nHealthcare Studies at UT Dallas\\n\\nGraduates are successful applicants to health professional schools including the following:\\n\\nMedicine\\n\\nPharmacy\\n\\nDentistry\\n\\nOptometry\\n\\nPhysical therapy\\n\\nHealth care administration\\n\\nOccupational therapy\\n\\nPhysician assisting\\n\\nClinical dietetics\\n\\nPodiatry\\n\\nOur graduates have been accepted to a variety of professional schools. Review our alumni testimonials.\\n\\nFor a full list of courses and descriptions, visit: catalog.utdallas.edu.\\n\\nThe programs of the School of Interdisciplinary Studies (IS) provide students with a broad learning experience. Because of the individualized focus and flexibility, the program is appropriate for both students preparing to enter the workplace and those planning to continue their studies. IS students are encouraged to customize a degree plan using two or more disciplines — a combination of business and the social sciences, for example — or they can tailor degrees in American studies or Healthcare studies around topics of interest.\\n\\nCareers in Health Care\\n\\nHealth care is one of the sectors expected to show the fastest job growth between 2014 and 2024, according to projections released in December 2015 by the U.S. Bureau of Labor Statistics. In the same 10-year period, the bureau projects the health care and social assistance industry to gain 3.8 million jobs representing one in three new jobs.\\n\\nGraduates are successful applicants to health professional schools including the following:\\n\\nMedicine\\n\\nPharmacy\\n\\nDentistry\\n\\nOptometry\\n\\nPhysical therapy\\n\\nHealth care administration\\n\\nOccupational therapy\\n\\nPhysician assisting\\n\\nClinical Dietetics\\n\\nPodiatry\\n\\nMarketable Skills\\n\\nReview the marketable skills for this academic program.\\n\\nAbout the School of Interdisciplinary Studies\\n\\nThe programs of the School of Interdisciplinary Studies (IS) provide students with a broad learning experience. Because of the individualized focus and flexibility, the program is appropriate for both students preparing to enter the workplace and those planning to continue their studies. IS students are encouraged to customize a degree plan using two or more disciplines — a combination of business and the social sciences, for example — or they can tailor degrees in American studies or Healthcare studies around topics of interest.\\n\\nDegrees Offered\\n\\nBachelor of Arts:\\xa0American studies, interdisciplinary studies\\n\\nBachelor of Science:\\xa0Healthcare studies, interdisciplinary studies\\n\\nMaster of Arts:\\xa0Interdisciplinary studies\\n\\nMinors Offered\\n\\nIf your academic focus leads you elsewhere at UT Dallas, but you would still like to pursue studies in the School of Interdisciplinary Studies, the following minors are available:\\n\\nAmerican studies\\n\\nEnvironmental studies\\n\\nExercise sciences\\n\\nGender studies\\n\\nHealthcare studies\\n\\nInternships and Honors\\n\\nThe School of Interdisciplinary Studies internship program at UT Dallas offers students the opportunity for practical experience in their field of interest:\\n\\nExperience in a professional work environment\\n\\nAcademic credit under faculty supervision\\n\\nThe chance to try a career or industry before committing to a full-time employment\\n\\nAdditional Facts\\n\\nThe University’s Teacher Development Center (TDC) is housed in the School of Interdisciplinary Studies and provides rigorous, university-based coursework with extensive field experience, including student teaching or a supervised post-baccalaureate internship for students interested in making teaching or school administration their career. The TDC offers teacher certification options for both undergraduate and post-baccalaureate students.\\n\\nThe University’s Academic Bridge Program, for which the school is responsible, assists high-potential students who may not have completed a college-track high school curriculum to transition to the academically rigorous environment of UT Dallas.\\n\\nCatalog Page\\n\\nApply Now\\n\\nContact Information\\n\\nSchool of Interdisciplinary Studies\\n\\nSchool of Interdisciplinary Studies\\n\\n800 W. Campbell Road\\n\\nRichardson, TX 75080-3021\\n\\nPhone: 972-883-2350\\n\\nWebsite:\\n\\nis.utdallas.edu\\n\\nDr. Kathleen A. Byrnes\\n\\nDr. Kathleen A. Byrnes\\n\\nEmail:\\n\\nkathleen.byrnes@utdallas.edu\\n\\nPhone: 972-883-2323\\n\\nOffice:\\n\\nHH 2.104\\n\\nPrint This Page\\n\\nDownload PDF', metadata={'source': 'https://www.utdallas.edu/fact-sheets/is/bs-healthcare-studies/'})]"
      ]
     },
     "execution_count": 13,
     "metadata": {},
     "output_type": "execute_result"
    }
   ],
   "source": [
    "data"
   ]
  }
 ],
 "metadata": {
  "kernelspec": {
   "display_name": "Python 3",
   "language": "python",
   "name": "python3"
  },
  "language_info": {
   "codemirror_mode": {
    "name": "ipython",
    "version": 3
   },
   "file_extension": ".py",
   "mimetype": "text/x-python",
   "name": "python",
   "nbconvert_exporter": "python",
   "pygments_lexer": "ipython3",
   "version": "3.9.6"
  }
 },
 "nbformat": 4,
 "nbformat_minor": 2
}
