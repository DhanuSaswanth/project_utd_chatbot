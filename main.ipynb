{
 "cells": [
  {
   "cell_type": "code",
   "execution_count": null,
   "metadata": {},
   "outputs": [],
   "source": [
    "!pip install langchain\n",
    "!pip install unstructured\n",
    "!pip install faiss-cpu\n",
    "!pip install openai\n"
   ]
  },
  {
   "cell_type": "code",
   "execution_count": null,
   "metadata": {},
   "outputs": [],
   "source": [
    "from langchain_community.document_loaders import UnstructuredFileLoader\n",
    "loader = UnstructuredFileLoader(\"./example_data/state_of_the_union.txt\")"
   ]
  },
  {
   "cell_type": "code",
   "execution_count": 7,
   "metadata": {},
   "outputs": [],
   "source": [
    "import os\n",
    "#..api connection here"
   ]
  },
  {
   "cell_type": "code",
   "execution_count": 10,
   "metadata": {},
   "outputs": [],
   "source": [
    "urls = [\n",
    "         'https://www.utdallas.edu/fact-sheets/is/ba-american-studies/',\n",
    "         'https://www.utdallas.edu/fact-sheets/is/bs-healthcare-studies/'\n",
    "]"
   ]
  },
  {
   "cell_type": "code",
   "execution_count": 12,
   "metadata": {},
   "outputs": [],
   "source": [
    "\n",
    "\n",
    "from langchain.document_loaders import UnstructuredURLLoader\n",
    "loaders = UnstructuredURLLoader (urls=urls)\n",
    "data = loaders.load()"
   ]
  },
  {
   "cell_type": "code",
   "execution_count": 13,
   "metadata": {},
   "outputs": [
    {
     "data": {
      "text/plain": [
       "[Document(page_content='Bachelor of Arts in American Studies\\n\\nAmerican studies is the interdisciplinary study of the American experience, past and present. Students pursuing an American Studies degree draw on course offerings from across the University as they explore, analyze, and interpret American culture and society.\\n\\nThe major and the minor in American Studies offer students the flexibility to design a course of study focused on their unique interests and career goals.\\n\\nAmerican Studies at UT Dallas\\n\\nAmerican studies majors, in consultation with the program head, construct two concentrations in which the majority of the upper-division coursework for the major is carried out. Each concentration must be interdisciplinary and attentive to historicity, but within those parameters, students have a great deal of latitude to develop individualized programs of study. Possible concentrations include:\\n\\nAmerican Legal System\\n\\nGender in American Culture & Society\\n\\nAmerican Popular Culture\\n\\nPolitical and Social Movements\\n\\nU.S. and the World\\n\\nRace and Ethnicity in American Life\\n\\nBusiness in America\\n\\nThe American Environment\\n\\nMedia and Communication Studies\\n\\nPolitics in American Society\\n\\nTechnology in American Life\\n\\nPlease see our website for the most current information.\\n\\nCareers in American Studies\\n\\nA degree in American Studies can prepare students for careers in nonprofit organizations, government, cultural industries, and the media, as well as in the corporate world. The bachelor’s degree in American studies is an excellent preparation for law or graduate school.\\n\\nThe University’s Career Center is an important resource for students pursuing postgraduation employment. Licensed counselors are available to provide strategies for mastering job interviews, writing professional cover letters and resumes and connecting with campus recruiters, among other services.\\n\\nMarketable Skills\\n\\nReview the marketable skills for this academic program.\\n\\nAbout the School of Interdisciplinary Studies\\n\\nThe programs of the School of Interdisciplinary Studies (IS) provide students with a broad learning experience. Because of the individualized focus and flexibility, the program is appropriate for both students preparing to enter the workplace and those planning to continue their studies. IS students are encouraged to customize a degree plan using two or more disciplines — a combination of business and the social sciences, for example — or they can tailor degrees in American studies or Healthcare studies around topics of interest.\\n\\nDegrees Offered\\n\\nBachelor of Arts: American studies, interdisciplinary studies\\n\\nBachelor of Science: Healthcare studies, interdisciplinary studies\\n\\nMaster of Arts: Interdisciplinary studies\\n\\nMinors Offered\\n\\nIf your academic focus leads you elsewhere at UT Dallas, but you would still like to pursue studies in the School of Interdisciplinary Studies, the following minors are available:\\n\\nAmerican Studies\\n\\nEnvironmental Studies\\n\\nExercise Sciences\\n\\nGender Studies\\n\\nHealthcare Studies\\n\\nInternships and Honors\\n\\nThe School of Interdisciplinary Studies internship program at UT Dallas offers students the opportunity for practical experience in their field of interest:\\n\\nExperience in a professional work environment\\n\\nAcademic credit under faculty supervision\\n\\nThe chance to try a career or industry before committing to a full-time employment\\n\\nAdditional Facts\\n\\nThe University’s Teacher Development Center (TDC) is housed in the School of Interdisciplinary Studies and provides rigorous, university-based coursework with extensive field experience, including student teaching or a supervised post-baccalaureate internship for students interested in making teaching or school administration their career. The TDC offers teacher certification options for both undergraduate and post-baccalaureate students.\\n\\nThe University’s Academic Bridge Program, for which the school is responsible, assists high-potential students who may not have completed a college-track high school curriculum to transition to the academically rigorous environment of UT Dallas.\\n\\nCatalog Page\\n\\nApply Now\\n\\nContact Information\\n\\nSchool of Interdisciplinary Studies\\n\\nSchool of Interdisciplinary Studies\\n\\n800 W. Campbell Road\\n\\nRichardson, TX 75080-3021\\n\\nPhone: 972-883-2350\\n\\nWebsite:\\n\\nis.utdallas.edu\\n\\nDr. Larissa Werhnyak\\n\\nDr. Larissa Werhnyak\\n\\nlarissa.werhnyak@utdallas.edu\\n\\nPhone: 972-883-6259\\n\\nOffice:\\n\\nHH 2.812\\n\\nPrint This Page\\n\\nDownload PDF', metadata={'source': 'https://www.utdallas.edu/fact-sheets/is/ba-american-studies/'}),\n",
       " Document(page_content='Bachelor of Science in Healthcare Studies\\n\\nThe Bachelor of Science in Healthcare Studies degree is a well-rounded degree that prepares students for future training as well as employment in the health care industry.\\n\\nThe program provides the academic foundation for pre-health students to prepare for advanced study as well as the essential knowledge components in health care studies. Science coursework includes biology, chemistry and physics. Health care studies include:\\n\\nPre-health professional development.\\n\\nHealthcare internship.\\n\\nMedical terminology.\\n\\nPsychological aspects of health and illness.\\n\\nUnderstanding of the U.S. health care system.\\n\\nPatient education.\\n\\nPrevention.\\n\\nPlease see our website for the most current information.\\n\\nHealthcare Studies at UT Dallas\\n\\nGraduates are successful applicants to health professional schools including the following:\\n\\nMedicine\\n\\nPharmacy\\n\\nDentistry\\n\\nOptometry\\n\\nPhysical therapy\\n\\nHealth care administration\\n\\nOccupational therapy\\n\\nPhysician assisting\\n\\nClinical dietetics\\n\\nPodiatry\\n\\nOur graduates have been accepted to a variety of professional schools. Review our alumni testimonials.\\n\\nFor a full list of courses and descriptions, visit: catalog.utdallas.edu.\\n\\nThe programs of the School of Interdisciplinary Studies (IS) provide students with a broad learning experience. Because of the individualized focus and flexibility, the program is appropriate for both students preparing to enter the workplace and those planning to continue their studies. IS students are encouraged to customize a degree plan using two or more disciplines — a combination of business and the social sciences, for example — or they can tailor degrees in American studies or Healthcare studies around topics of interest.\\n\\nCareers in Health Care\\n\\nHealth care is one of the sectors expected to show the fastest job growth between 2014 and 2024, according to projections released in December 2015 by the U.S. Bureau of Labor Statistics. In the same 10-year period, the bureau projects the health care and social assistance industry to gain 3.8 million jobs representing one in three new jobs.\\n\\nGraduates are successful applicants to health professional schools including the following:\\n\\nMedicine\\n\\nPharmacy\\n\\nDentistry\\n\\nOptometry\\n\\nPhysical therapy\\n\\nHealth care administration\\n\\nOccupational therapy\\n\\nPhysician assisting\\n\\nClinical Dietetics\\n\\nPodiatry\\n\\nMarketable Skills\\n\\nReview the marketable skills for this academic program.\\n\\nAbout the School of Interdisciplinary Studies\\n\\nThe programs of the School of Interdisciplinary Studies (IS) provide students with a broad learning experience. Because of the individualized focus and flexibility, the program is appropriate for both students preparing to enter the workplace and those planning to continue their studies. IS students are encouraged to customize a degree plan using two or more disciplines — a combination of business and the social sciences, for example — or they can tailor degrees in American studies or Healthcare studies around topics of interest.\\n\\nDegrees Offered\\n\\nBachelor of Arts:\\xa0American studies, interdisciplinary studies\\n\\nBachelor of Science:\\xa0Healthcare studies, interdisciplinary studies\\n\\nMaster of Arts:\\xa0Interdisciplinary studies\\n\\nMinors Offered\\n\\nIf your academic focus leads you elsewhere at UT Dallas, but you would still like to pursue studies in the School of Interdisciplinary Studies, the following minors are available:\\n\\nAmerican studies\\n\\nEnvironmental studies\\n\\nExercise sciences\\n\\nGender studies\\n\\nHealthcare studies\\n\\nInternships and Honors\\n\\nThe School of Interdisciplinary Studies internship program at UT Dallas offers students the opportunity for practical experience in their field of interest:\\n\\nExperience in a professional work environment\\n\\nAcademic credit under faculty supervision\\n\\nThe chance to try a career or industry before committing to a full-time employment\\n\\nAdditional Facts\\n\\nThe University’s Teacher Development Center (TDC) is housed in the School of Interdisciplinary Studies and provides rigorous, university-based coursework with extensive field experience, including student teaching or a supervised post-baccalaureate internship for students interested in making teaching or school administration their career. The TDC offers teacher certification options for both undergraduate and post-baccalaureate students.\\n\\nThe University’s Academic Bridge Program, for which the school is responsible, assists high-potential students who may not have completed a college-track high school curriculum to transition to the academically rigorous environment of UT Dallas.\\n\\nCatalog Page\\n\\nApply Now\\n\\nContact Information\\n\\nSchool of Interdisciplinary Studies\\n\\nSchool of Interdisciplinary Studies\\n\\n800 W. Campbell Road\\n\\nRichardson, TX 75080-3021\\n\\nPhone: 972-883-2350\\n\\nWebsite:\\n\\nis.utdallas.edu\\n\\nDr. Kathleen A. Byrnes\\n\\nDr. Kathleen A. Byrnes\\n\\nEmail:\\n\\nkathleen.byrnes@utdallas.edu\\n\\nPhone: 972-883-2323\\n\\nOffice:\\n\\nHH 2.104\\n\\nPrint This Page\\n\\nDownload PDF', metadata={'source': 'https://www.utdallas.edu/fact-sheets/is/bs-healthcare-studies/'})]"
      ]
     },
     "execution_count": 13,
     "metadata": {},
     "output_type": "execute_result"
    }
   ],
   "source": [
    "data"
   ]
  }
 ],
 "metadata": {
  "kernelspec": {
   "display_name": "Python 3",
   "language": "python",
   "name": "python3"
  },
  "language_info": {
   "codemirror_mode": {
    "name": "ipython",
    "version": 3
   },
   "file_extension": ".py",
   "mimetype": "text/x-python",
   "name": "python",
   "nbconvert_exporter": "python",
   "pygments_lexer": "ipython3",
   "version": "3.9.6"
  }
 },
 "nbformat": 4,
 "nbformat_minor": 2
}
